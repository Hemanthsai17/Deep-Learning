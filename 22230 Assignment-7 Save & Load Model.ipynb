{
 "cells": [
  {
   "cell_type": "markdown",
   "id": "a8678057",
   "metadata": {},
   "source": [
    "# Save and Load the Model"
   ]
  },
  {
   "cell_type": "code",
   "execution_count": 1,
   "id": "b321b6f5",
   "metadata": {},
   "outputs": [],
   "source": [
    "import torch\n",
    "import torchvision.models as models"
   ]
  },
  {
   "cell_type": "markdown",
   "id": "55fc42b1",
   "metadata": {},
   "source": [
    "PyTorch models store the learned parameters in an internal state dictionary, called **state_dict**. These can be persisted via the torch.save method:"
   ]
  },
  {
   "cell_type": "code",
   "execution_count": 4,
   "id": "dc2dde88",
   "metadata": {},
   "outputs": [],
   "source": [
    "#It looks like you are trying to load the VGG16 model with pre-trained ImageNet weights \n",
    "#and then save its state dictionary to a file named 'model_weights.pth' \n",
    "model = models.vgg16(weights='imagenet')\n",
    "torch.save(model.state_dict(), 'model_weights.pth')"
   ]
  },
  {
   "cell_type": "markdown",
   "id": "f55fa270",
   "metadata": {},
   "source": [
    "To load model weights, you need to create an instance of the same model first, and then load the parameters using **load_state_dict()** method."
   ]
  },
  {
   "cell_type": "code",
   "execution_count": 5,
   "id": "68e32160",
   "metadata": {},
   "outputs": [],
   "source": [
    "model = models.vgg16() # we do not specify ``weights``, i.e. create untrained model\n",
    "model.load_state_dict(torch.load('model_weights.pth'))\n",
    "model.eval()"
   ]
  },
  {
   "cell_type": "markdown",
   "id": "11dbc686",
   "metadata": {},
   "source": [
    "**NOTE:-**\n",
    "\n",
    "- be sure to call **model.eval()** method before inferencing to set the dropout and batch normalization layers to evaluation mode. Failing to do this will yield inconsistent inference results."
   ]
  },
  {
   "cell_type": "code",
   "execution_count": 7,
   "id": "587f262e",
   "metadata": {},
   "outputs": [],
   "source": [
    "torch.save(model,'model.pth')"
   ]
  },
  {
   "cell_type": "code",
   "execution_count": 8,
   "id": "59795880",
   "metadata": {},
   "outputs": [],
   "source": [
    "model=torch.load('model.pth')"
   ]
  },
  {
   "cell_type": "markdown",
   "id": "b590c9f1",
   "metadata": {},
   "source": [
    "**NOTE:-**\n",
    "\n",
    "- This approach uses Python **pickle** module when serializing the model, thus it relies on the actual class definition to be available when loading the model."
   ]
  },
  {
   "cell_type": "code",
   "execution_count": null,
   "id": "ba37358d",
   "metadata": {},
   "outputs": [],
   "source": []
  }
 ],
 "metadata": {
  "kernelspec": {
   "display_name": "Python 3 (ipykernel)",
   "language": "python",
   "name": "python3"
  },
  "language_info": {
   "codemirror_mode": {
    "name": "ipython",
    "version": 3
   },
   "file_extension": ".py",
   "mimetype": "text/x-python",
   "name": "python",
   "nbconvert_exporter": "python",
   "pygments_lexer": "ipython3",
   "version": "3.11.4"
  }
 },
 "nbformat": 4,
 "nbformat_minor": 5
}
