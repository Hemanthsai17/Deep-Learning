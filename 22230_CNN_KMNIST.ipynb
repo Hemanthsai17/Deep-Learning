{
  "nbformat": 4,
  "nbformat_minor": 0,
  "metadata": {
    "colab": {
      "provenance": [],
      "gpuType": "T4"
    },
    "kernelspec": {
      "name": "python3",
      "display_name": "Python 3"
    },
    "language_info": {
      "name": "python"
    },
    "accelerator": "GPU"
  },
  "cells": [
    {
      "cell_type": "code",
      "execution_count": 1,
      "metadata": {
        "id": "EHVZzx0SAZLX"
      },
      "outputs": [],
      "source": [
        "import torch\n",
        "import torch.nn as nn\n",
        "import torchvision\n",
        "import torchvision.transforms as transforms\n",
        "import matplotlib.pyplot as plt"
      ]
    },
    {
      "cell_type": "code",
      "source": [
        "import pandas as pd\n",
        "from sklearn.model_selection import train_test_split\n",
        "import numpy as np\n",
        "from torch.utils.data import Dataset\n",
        "import os\n",
        "from torchvision.io import read_image\n",
        "from torch.utils.data import DataLoader\n",
        "import torch.optim as optim"
      ],
      "metadata": {
        "id": "ysbY2mzOny_w"
      },
      "execution_count": 2,
      "outputs": []
    },
    {
      "cell_type": "code",
      "source": [
        "device = (\"cuda\" if torch.cuda.is_available() else \"cpu\")\n",
        "print(f\"Using {device} device\")"
      ],
      "metadata": {
        "colab": {
          "base_uri": "https://localhost:8080/"
        },
        "id": "QuhNQm3ZzCjh",
        "outputId": "93bf3d77-b13a-4ea0-8597-245bc9846d3b"
      },
      "execution_count": 3,
      "outputs": [
        {
          "output_type": "stream",
          "name": "stdout",
          "text": [
            "Using cuda device\n"
          ]
        }
      ]
    },
    {
      "cell_type": "code",
      "source": [
        "kid = pd.read_csv('/content/kid.csv')"
      ],
      "metadata": {
        "id": "kVq6VN0tDHd7"
      },
      "execution_count": 4,
      "outputs": []
    },
    {
      "cell_type": "code",
      "source": [
        "train_df, test_df = train_test_split(kid, test_size=0.1, random_state=42)"
      ],
      "metadata": {
        "id": "FlWVMWAFDKzL"
      },
      "execution_count": 5,
      "outputs": []
    },
    {
      "cell_type": "code",
      "source": [
        "train_df, val_df = train_test_split(train_df, test_size=0.1, random_state=42)"
      ],
      "metadata": {
        "id": "eluDS6zfDLVz"
      },
      "execution_count": 6,
      "outputs": []
    },
    {
      "cell_type": "code",
      "source": [
        "kid.iloc[:,0]"
      ],
      "metadata": {
        "colab": {
          "base_uri": "https://localhost:8080/"
        },
        "id": "BkM8MGN3Fr1r",
        "outputId": "3f96ea46-8d81-458a-fa42-cd49dc6f3350"
      },
      "execution_count": 7,
      "outputs": [
        {
          "output_type": "execute_result",
          "data": {
            "text/plain": [
              "0       0\n",
              "1       1\n",
              "2       2\n",
              "3       3\n",
              "4       4\n",
              "       ..\n",
              "8164    4\n",
              "8165    5\n",
              "8166    6\n",
              "8167    7\n",
              "8168    8\n",
              "Name: label, Length: 8169, dtype: int64"
            ]
          },
          "metadata": {},
          "execution_count": 7
        }
      ]
    },
    {
      "cell_type": "code",
      "source": [
        "class KannadaImageDataset(Dataset):\n",
        "    def __init__(self, image_df):\n",
        "        self.img_labels = image_df.iloc[:,0].values\n",
        "        self.img_df = image_df.iloc[:,1:].values\n",
        "\n",
        "    def __len__(self):\n",
        "        return len(self.img_labels)\n",
        "\n",
        "    def __getitem__(self, idx):\n",
        "        image = torch.tensor(self.img_df[idx]).reshape(1,28,28)\n",
        "        label = self.img_labels[idx]\n",
        "\n",
        "        return image, label"
      ],
      "metadata": {
        "id": "AqV8WHhDDRS7"
      },
      "execution_count": 8,
      "outputs": []
    },
    {
      "cell_type": "code",
      "source": [
        "train_dataset = KannadaImageDataset(train_df)\n",
        "test_dataset = KannadaImageDataset(test_df)\n",
        "val_dataset = KannadaImageDataset(val_df)"
      ],
      "metadata": {
        "id": "VQ5HTBzmDtB8"
      },
      "execution_count": 9,
      "outputs": []
    },
    {
      "cell_type": "code",
      "source": [
        "'''train_dataset\n",
        "<__main__.KannadaImageDataset at 0x7e00494736a0>\n",
        "test_dataset\n",
        "<__main__.KannadaImageDataset at 0x7e011f19d4e0>\n",
        "val_dataset\n",
        "<__main__.KannadaImageDataset at 0x7e011f19d120>'''"
      ],
      "metadata": {
        "colab": {
          "base_uri": "https://localhost:8080/",
          "height": 35
        },
        "id": "csmcPDAOLWHc",
        "outputId": "f91a0a8b-75bc-491e-a32e-e84f16a1f7a8"
      },
      "execution_count": 10,
      "outputs": [
        {
          "output_type": "execute_result",
          "data": {
            "text/plain": [
              "'train_dataset\\n<__main__.KannadaImageDataset at 0x7e00494736a0>\\ntest_dataset\\n<__main__.KannadaImageDataset at 0x7e011f19d4e0>\\nval_dataset\\n<__main__.KannadaImageDataset at 0x7e011f19d120>'"
            ],
            "application/vnd.google.colaboratory.intrinsic+json": {
              "type": "string"
            }
          },
          "metadata": {},
          "execution_count": 10
        }
      ]
    },
    {
      "cell_type": "code",
      "source": [
        "next(iter(train_dataset))[0].shape"
      ],
      "metadata": {
        "colab": {
          "base_uri": "https://localhost:8080/"
        },
        "id": "FufHFyNtDyA8",
        "outputId": "90425a9d-ac88-4e4d-9c3a-bae15d350890"
      },
      "execution_count": 11,
      "outputs": [
        {
          "output_type": "execute_result",
          "data": {
            "text/plain": [
              "torch.Size([1, 28, 28])"
            ]
          },
          "metadata": {},
          "execution_count": 11
        }
      ]
    },
    {
      "cell_type": "code",
      "source": [
        "for i in range(6):\n",
        "    label = val_df.iloc[:,0].values[i]\n",
        "    image = torch.tensor(val_df.drop(val_df.iloc[:,0].name, axis=1).iloc[i,:].values).reshape(28,28,1)\n",
        "    plt.subplot(2,3,i+1)\n",
        "    plt.imshow(image, cmap='gray')\n",
        "    plt.text(14, -2, f\"Label: {label}\", ha='center', fontsize=10, color='red')\n",
        "plt.show()"
      ],
      "metadata": {
        "colab": {
          "base_uri": "https://localhost:8080/",
          "height": 427
        },
        "id": "V_6eDATfEFAt",
        "outputId": "9fb9ee42-a84c-4bdd-cf45-c2ae74998656"
      },
      "execution_count": 12,
      "outputs": [
        {
          "output_type": "display_data",
          "data": {
            "text/plain": [
              "<Figure size 640x480 with 6 Axes>"
            ],
            "image/png": "[encoded data removed]"
          },
          "metadata": {}
        }
      ]
    },
    {
      "cell_type": "code",
      "source": [
        "train_loader = DataLoader(dataset=train_dataset,batch_size=64,shuffle=True)\n",
        "val_loader = DataLoader(dataset=val_dataset,batch_size=64,shuffle=True)\n",
        "test_loader = DataLoader(dataset=test_dataset, batch_size=64,shuffle=False)"
      ],
      "metadata": {
        "id": "ULsgaB2AKSy8"
      },
      "execution_count": 13,
      "outputs": []
    },
    {
      "cell_type": "code",
      "source": [
        "next(iter(train_loader))[0].shape"
      ],
      "metadata": {
        "colab": {
          "base_uri": "https://localhost:8080/"
        },
        "id": "scxt_aWpL9lc",
        "outputId": "1688acda-6cf6-4a1a-b356-e61454c6a853"
      },
      "execution_count": 14,
      "outputs": [
        {
          "output_type": "execute_result",
          "data": {
            "text/plain": [
              "torch.Size([64, 1, 28, 28])"
            ]
          },
          "metadata": {},
          "execution_count": 14
        }
      ]
    },
    {
      "cell_type": "code",
      "source": [
        "class KannadaMNIST(nn.Module):\n",
        "    def __init__(self):\n",
        "        super(KannadaMNIST, self).__init__()\n",
        "        self.conv1 = nn.Sequential(\n",
        "            nn.Conv2d(1, 32, 5, padding=2),\n",
        "            nn.ReLU(),\n",
        "            nn.MaxPool2d(2))\n",
        "        self.conv2 = nn.Sequential(\n",
        "            nn.Conv2d(32, 64, 5, padding=2),\n",
        "            nn.ReLU(),\n",
        "            nn.MaxPool2d(2))\n",
        "        self.fc1 = nn.Sequential(\n",
        "            nn.Flatten(),\n",
        "            nn.Linear(7 * 7 * 64, 1024),\n",
        "            nn.Dropout(0.5),\n",
        "            nn.Linear(1024, 10))\n",
        "\n",
        "        # Cast model parameters to Double\n",
        "        for layer in self.children():\n",
        "            for param in layer.parameters():\n",
        "                param.data = param.data.double()\n",
        "\n",
        "    def forward(self, x):\n",
        "        x = self.conv1(x)\n",
        "        x = self.conv2(x)\n",
        "        return self.fc1(x)"
      ],
      "metadata": {
        "id": "KHQOGwlcEQLu"
      },
      "execution_count": 15,
      "outputs": []
    },
    {
      "cell_type": "code",
      "source": [
        "model = KannadaMNIST()\n",
        "model.to(device)\n",
        "print(model)"
      ],
      "metadata": {
        "colab": {
          "base_uri": "https://localhost:8080/"
        },
        "id": "cEjC3YFRy7lx",
        "outputId": "9bd0fb2f-e8df-4372-dd2c-8eb227fd7dfb"
      },
      "execution_count": 16,
      "outputs": [
        {
          "output_type": "stream",
          "name": "stdout",
          "text": [
            "KannadaMNIST(\n",
            "  (conv1): Sequential(\n",
            "    (0): Conv2d(1, 32, kernel_size=(5, 5), stride=(1, 1), padding=(2, 2))\n",
            "    (1): ReLU()\n",
            "    (2): MaxPool2d(kernel_size=2, stride=2, padding=0, dilation=1, ceil_mode=False)\n",
            "  )\n",
            "  (conv2): Sequential(\n",
            "    (0): Conv2d(32, 64, kernel_size=(5, 5), stride=(1, 1), padding=(2, 2))\n",
            "    (1): ReLU()\n",
            "    (2): MaxPool2d(kernel_size=2, stride=2, padding=0, dilation=1, ceil_mode=False)\n",
            "  )\n",
            "  (fc1): Sequential(\n",
            "    (0): Flatten(start_dim=1, end_dim=-1)\n",
            "    (1): Linear(in_features=3136, out_features=1024, bias=True)\n",
            "    (2): Dropout(p=0.5, inplace=False)\n",
            "    (3): Linear(in_features=1024, out_features=10, bias=True)\n",
            "  )\n",
            ")\n"
          ]
        }
      ]
    },
    {
      "cell_type": "code",
      "source": [
        "train_losses=[]\n",
        "val_losses=[]"
      ],
      "metadata": {
        "id": "0ViV3hQHyfty"
      },
      "execution_count": 17,
      "outputs": []
    },
    {
      "cell_type": "code",
      "source": [
        "learning_rate=1e-4\n",
        "num_epochs=10\n",
        "optimizer = optim.Adam(model.parameters(), lr=learning_rate)\n",
        "loss_fn=nn.CrossEntropyLoss()"
      ],
      "metadata": {
        "id": "-hPY_sS10DK9"
      },
      "execution_count": 18,
      "outputs": []
    },
    {
      "cell_type": "code",
      "source": [
        "num_epochs = 10\n",
        "for epoch in range(num_epochs):\n",
        "    model.train()\n",
        "    for batch in train_loader:\n",
        "        inputs, labels = batch\n",
        "        inputs, labels = inputs.to(device).double(), labels.to(device).long()  # Cast inputs to Double and labels to Long\n",
        "\n",
        "        optimizer.zero_grad()\n",
        "\n",
        "        outputs = model(inputs)\n",
        "        loss = loss_fn(outputs, labels)\n",
        "\n",
        "        loss.backward()\n",
        "        optimizer.step()\n",
        "\n",
        "    # Validation\n",
        "    model.eval()\n",
        "    with torch.no_grad():\n",
        "        total = 0\n",
        "        correct = 0\n",
        "        for batch in val_loader:\n",
        "            inputs, labels = batch\n",
        "            inputs, labels = inputs.to(device).double(), labels.to(device).long()  # Cast inputs to Double and labels to Long\n",
        "\n",
        "            outputs = model(inputs)\n",
        "            _, predicted = torch.max(outputs, 1)\n",
        "            total += labels.size(0)\n",
        "            correct += (predicted == labels).sum().item()\n",
        "\n",
        "    accuracy = 100 * correct / total\n",
        "    print(f'Epoch {epoch + 1}/{num_epochs}, Loss: {loss.item():.4f}, Validation Accuracy: {accuracy:.2f}%')"
      ],
      "metadata": {
        "colab": {
          "base_uri": "https://localhost:8080/"
        },
        "id": "DlaamCbjJKfD",
        "outputId": "6837cebc-f9ce-4d6b-968e-13f1af733971"
      },
      "execution_count": 20,
      "outputs": [
        {
          "output_type": "stream",
          "name": "stdout",
          "text": [
            "Epoch 1/10, Loss: 0.0119, Validation Accuracy: 96.06%\n",
            "Epoch 2/10, Loss: 0.0091, Validation Accuracy: 95.24%\n",
            "Epoch 3/10, Loss: 0.0861, Validation Accuracy: 95.92%\n",
            "Epoch 4/10, Loss: 0.0035, Validation Accuracy: 95.65%\n",
            "Epoch 5/10, Loss: 0.0093, Validation Accuracy: 96.06%\n",
            "Epoch 6/10, Loss: 0.0012, Validation Accuracy: 95.79%\n",
            "Epoch 7/10, Loss: 0.0026, Validation Accuracy: 95.65%\n",
            "Epoch 8/10, Loss: 0.0095, Validation Accuracy: 96.06%\n",
            "Epoch 9/10, Loss: 0.0051, Validation Accuracy: 96.06%\n",
            "Epoch 10/10, Loss: 0.0001, Validation Accuracy: 96.06%\n"
          ]
        }
      ]
    }
  ]
}