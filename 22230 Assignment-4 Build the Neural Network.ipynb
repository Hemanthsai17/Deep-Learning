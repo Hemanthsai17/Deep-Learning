{
 "cells": [
  {
   "cell_type": "code",
   "execution_count": 1,
   "id": "45158e62",
   "metadata": {},
   "outputs": [],
   "source": [
    "import os\n",
    "import torch\n",
    "from torch import nn\n",
    "from torch.utils.data import DataLoader\n",
    "from torchvision import datasets, transforms"
   ]
  },
  {
   "cell_type": "markdown",
   "id": "957bd031",
   "metadata": {},
   "source": [
    "### Get Device for Training"
   ]
  },
  {
   "cell_type": "code",
   "execution_count": 2,
   "id": "40befbbb",
   "metadata": {},
   "outputs": [
    {
     "name": "stdout",
     "output_type": "stream",
     "text": [
      "Using cpu device\n"
     ]
    }
   ],
   "source": [
    "device = (\n",
    "    \"cuda\"\n",
    "    if torch.cuda.is_available()\n",
    "    else \"mps\"\n",
    "    if torch.backends.mps.is_available()\n",
    "    else \"cpu\"\n",
    ")\n",
    "print(f\"Using {device} device\")"
   ]
  },
  {
   "cell_type": "markdown",
   "id": "1dd16e1d",
   "metadata": {},
   "source": [
    "### Define the Class"
   ]
  },
  {
   "cell_type": "markdown",
   "id": "9ac28ce0",
   "metadata": {},
   "source": [
    "Defining our neural network by subclassing **nn.Module**, and initialize the neural network layers in __init__.\n",
    "- Every nn.Module subclass implements the operations on input data in the forward method."
   ]
  },
  {
   "cell_type": "code",
   "execution_count": 3,
   "id": "2b4f29b5",
   "metadata": {},
   "outputs": [],
   "source": [
    "#Subclassing refers to the process of creating a new class (the subclass - NeuralNetwork)\n",
    "#that inherits attributes and behaviors from an existing class (the superclass - n.Module).\n",
    "\n",
    "#a constructor is a special method within a class that is automatically called when an object of that class is created or instantiated.\n",
    "\n",
    "class NeuralNetwork(nn.Module):\n",
    "    def __init__(self):#as we know __init__ is a constructor of the class\n",
    "        #Below line calls the constructor of the superclass (nn.Module) to ensure that the necessary initializations \n",
    "        #for a Module object are performed.\n",
    "        super().__init__()\n",
    "        #Below line creates an instance of nn.Flatten(), which is used to flatten the input tensor to a 1D tensor.\n",
    "        self.flatten = nn.Flatten()\n",
    "        #Following 6 lines we define the nn layers of our neural network\n",
    "        #linear layers and ReLU as the activation function\n",
    "        self.linear_relu_stack = nn.Sequential(\n",
    "            nn.Linear(28*28, 512),#a fully connected layer with 784 input features and 512 output features (neurons).\n",
    "            nn.ReLU(),#adds a ReLU activation function after the first linear layer\n",
    "            nn.Linear(512, 512),\n",
    "            nn.ReLU(),\n",
    "            nn.Linear(512, 10),\n",
    "        )\n",
    "\n",
    "    def forward(self, x):\n",
    "        #x above is the input\n",
    "        x = self.flatten(x)\n",
    "        #above line converts the 2D image tensors into 1D vectors\n",
    "        #Below line passes the flattened input x through the linear_relu_stack \n",
    "        #layers defined earlier. The result is the raw output of the neural network, \n",
    "        #often referred to as \"logits.\"\n",
    "        logits = self.linear_relu_stack(x)\n",
    "        return logits"
   ]
  },
  {
   "cell_type": "code",
   "execution_count": 4,
   "id": "54040a61",
   "metadata": {},
   "outputs": [
    {
     "name": "stdout",
     "output_type": "stream",
     "text": [
      "NeuralNetwork(\n",
      "  (flatten): Flatten(start_dim=1, end_dim=-1)\n",
      "  (linear_relu_stack): Sequential(\n",
      "    (0): Linear(in_features=784, out_features=512, bias=True)\n",
      "    (1): ReLU()\n",
      "    (2): Linear(in_features=512, out_features=512, bias=True)\n",
      "    (3): ReLU()\n",
      "    (4): Linear(in_features=512, out_features=10, bias=True)\n",
      "  )\n",
      ")\n"
     ]
    }
   ],
   "source": [
    "#We create an instance of NeuralNetwork, and move it to the device, and print its structure.\n",
    "model = NeuralNetwork().to(device)\n",
    "print(model)"
   ]
  },
  {
   "cell_type": "markdown",
   "id": "63816a12",
   "metadata": {},
   "source": [
    "To use the model, we pass it the input data. This executes the model’s forward, along with some background operations. \n",
    "- **Do not call *model.forward()* directly!**"
   ]
  },
  {
   "cell_type": "markdown",
   "id": "f94271f1",
   "metadata": {},
   "source": [
    "- The code below demonstrates how to use a PyTorch model (model) to make predictions on a random input tensor (X) of shape (1, 28, 28) and then extract the predicted class."
   ]
  },
  {
   "cell_type": "code",
   "execution_count": 5,
   "id": "d75cbba0",
   "metadata": {},
   "outputs": [
    {
     "name": "stdout",
     "output_type": "stream",
     "text": [
      "Predicted class: tensor([0])\n"
     ]
    }
   ],
   "source": [
    "X = torch.rand(1, 28, 28, device=device)\n",
    "logits = model(X)\n",
    "#Below line applies the softmax function along the specified dimension to the logits.\n",
    "#The softmax function converts the raw scores (logits) into probabilities, \n",
    "#making it easier to interpret the model's predictions.\n",
    "pred_probab = nn.Softmax(dim=1)(logits)\n",
    "y_pred = pred_probab.argmax(1)\n",
    "#above line finds the index of the maximum value along dimension 1, \n",
    "#which corresponds to the class with the highest probability.\n",
    "print(f\"Predicted class: {y_pred}\")"
   ]
  },
  {
   "cell_type": "markdown",
   "id": "4339c13f",
   "metadata": {},
   "source": [
    "### Model Layers\n",
    "- **Break down of the layers in the FashionMNIST model**"
   ]
  },
  {
   "cell_type": "code",
   "execution_count": 6,
   "id": "7c817ea7",
   "metadata": {},
   "outputs": [
    {
     "name": "stdout",
     "output_type": "stream",
     "text": [
      "torch.Size([3, 28, 28])\n"
     ]
    }
   ],
   "source": [
    "input_image = torch.rand(3,28,28)#Batch size of 3(images) of size 28*28\n",
    "print(input_image.size())"
   ]
  },
  {
   "cell_type": "markdown",
   "id": "e70f348a",
   "metadata": {},
   "source": [
    "#### nn.Flatten"
   ]
  },
  {
   "cell_type": "code",
   "execution_count": 7,
   "id": "cd920a81",
   "metadata": {},
   "outputs": [
    {
     "name": "stdout",
     "output_type": "stream",
     "text": [
      "torch.Size([3, 784])\n"
     ]
    }
   ],
   "source": [
    "#to convert each 2D 28x28 image into a contiguous array of 784 pixel values\n",
    "flatten = nn.Flatten()\n",
    "flat_image = flatten(input_image)\n",
    "print(flat_image.size())"
   ]
  },
  {
   "cell_type": "markdown",
   "id": "7b790956",
   "metadata": {},
   "source": [
    "#### nn.Linear"
   ]
  },
  {
   "cell_type": "code",
   "execution_count": 9,
   "id": "88062e20",
   "metadata": {},
   "outputs": [
    {
     "name": "stdout",
     "output_type": "stream",
     "text": [
      "torch.Size([3, 20])\n"
     ]
    }
   ],
   "source": [
    "#The linear layer is a module that applies a linear transformation on the input using its stored weights and biases.\n",
    "layer1=nn.Linear(in_features=28*28,out_features=20)\n",
    "hidden1=layer1(flat_image)\n",
    "print(hidden1.size())"
   ]
  },
  {
   "cell_type": "markdown",
   "id": "2193ebbd",
   "metadata": {},
   "source": [
    "- Non-linear activations are what create the complex mappings between the model’s inputs and outputs. They are applied after linear transformations to introduce nonlinearity, helping neural networks learn a wide variety of phenomena."
   ]
  },
  {
   "cell_type": "markdown",
   "id": "19f85865",
   "metadata": {},
   "source": [
    "#### nn.ReLU"
   ]
  },
  {
   "cell_type": "code",
   "execution_count": 10,
   "id": "63c0171d",
   "metadata": {},
   "outputs": [
    {
     "name": "stdout",
     "output_type": "stream",
     "text": [
      "Before ReLU: tensor([[ 0.0859, -0.6808,  0.2399,  0.0856, -0.1637,  0.0539, -0.0994, -0.1990,\n",
      "         -0.6223,  0.0593,  0.0030,  0.3440,  0.1669, -0.2074, -0.0371,  0.4668,\n",
      "          0.0810,  0.0818,  0.4791, -0.4517],\n",
      "        [-0.2074, -0.4285,  0.2611,  0.0362, -0.1046, -0.0901, -0.1770,  0.2857,\n",
      "         -0.7465, -0.1358, -0.1198,  0.5912,  0.0560,  0.1943,  0.4678,  0.2722,\n",
      "         -0.0309,  0.0732,  0.3472, -0.1581],\n",
      "        [-0.1182, -0.5810,  0.2936,  0.2258, -0.2580, -0.0518, -0.5427, -0.1304,\n",
      "         -0.4635, -0.3667, -0.1084,  0.2728, -0.2227, -0.2490,  0.1111,  0.4727,\n",
      "         -0.3359,  0.2391,  0.4377, -0.5289]], grad_fn=<AddmmBackward0>)\n",
      "\n",
      "\n",
      "After ReLU: tensor([[0.0859, 0.0000, 0.2399, 0.0856, 0.0000, 0.0539, 0.0000, 0.0000, 0.0000,\n",
      "         0.0593, 0.0030, 0.3440, 0.1669, 0.0000, 0.0000, 0.4668, 0.0810, 0.0818,\n",
      "         0.4791, 0.0000],\n",
      "        [0.0000, 0.0000, 0.2611, 0.0362, 0.0000, 0.0000, 0.0000, 0.2857, 0.0000,\n",
      "         0.0000, 0.0000, 0.5912, 0.0560, 0.1943, 0.4678, 0.2722, 0.0000, 0.0732,\n",
      "         0.3472, 0.0000],\n",
      "        [0.0000, 0.0000, 0.2936, 0.2258, 0.0000, 0.0000, 0.0000, 0.0000, 0.0000,\n",
      "         0.0000, 0.0000, 0.2728, 0.0000, 0.0000, 0.1111, 0.4727, 0.0000, 0.2391,\n",
      "         0.4377, 0.0000]], grad_fn=<ReluBackward0>)\n"
     ]
    }
   ],
   "source": [
    "print(f\"Before ReLU: {hidden1}\\n\\n\")\n",
    "hidden1 = nn.ReLU()(hidden1)\n",
    "print(f\"After ReLU: {hidden1}\")"
   ]
  },
  {
   "cell_type": "markdown",
   "id": "5b3c9be5",
   "metadata": {},
   "source": [
    "- nn.Sequential is an ordered container of modules. The data is passed through all the modules in the same order as defined. You can use sequential containers to put together a quick network like seq_modules."
   ]
  },
  {
   "cell_type": "markdown",
   "id": "0004c317",
   "metadata": {},
   "source": [
    "#### nn.Sequential"
   ]
  },
  {
   "cell_type": "code",
   "execution_count": 11,
   "id": "a0202aa2",
   "metadata": {},
   "outputs": [],
   "source": [
    "seq_modules = nn.Sequential(\n",
    "    flatten,\n",
    "    layer1,\n",
    "    nn.ReLU(),\n",
    "    nn.Linear(20, 10)\n",
    ")\n",
    "input_image = torch.rand(3,28,28)\n",
    "logits = seq_modules(input_image)"
   ]
  },
  {
   "cell_type": "markdown",
   "id": "9b13c1db",
   "metadata": {},
   "source": [
    "- The last linear layer of the neural network returns logits - raw values in [-infty, infty] - which are passed to the nn.Softmax module. \n",
    "- The logits are scaled to values [0, 1] representing the model’s predicted probabilities for each class. \n",
    "- dim parameter indicates the dimension along which the values must sum to 1."
   ]
  },
  {
   "cell_type": "markdown",
   "id": "dd931cec",
   "metadata": {},
   "source": [
    "#### nn.Softmax"
   ]
  },
  {
   "cell_type": "code",
   "execution_count": 12,
   "id": "ec69ddf5",
   "metadata": {},
   "outputs": [],
   "source": [
    "softmax = nn.Softmax(dim=1)\n",
    "pred_probab = softmax(logits)"
   ]
  },
  {
   "cell_type": "code",
   "execution_count": 13,
   "id": "bc7a4a49",
   "metadata": {},
   "outputs": [
    {
     "data": {
      "text/plain": [
       "tensor([[0.1339, 0.0930, 0.0663, 0.1290, 0.1003, 0.1001, 0.0782, 0.1156, 0.1036,\n",
       "         0.0800],\n",
       "        [0.1381, 0.1054, 0.0771, 0.1193, 0.0902, 0.0964, 0.0947, 0.0925, 0.1076,\n",
       "         0.0787],\n",
       "        [0.1318, 0.0941, 0.0817, 0.1147, 0.0823, 0.1045, 0.0926, 0.0954, 0.1128,\n",
       "         0.0902]], grad_fn=<SoftmaxBackward0>)"
      ]
     },
     "execution_count": 13,
     "metadata": {},
     "output_type": "execute_result"
    }
   ],
   "source": [
    "pred_probab"
   ]
  },
  {
   "cell_type": "markdown",
   "id": "2ae5e7a7",
   "metadata": {},
   "source": [
    "### Model Parameters"
   ]
  },
  {
   "cell_type": "markdown",
   "id": "c480aedc",
   "metadata": {},
   "source": [
    "- Many layers inside a neural network are parameterized, i.e. have associated weights and biases that are optimized during training. \n",
    "- Subclassing nn.Module automatically tracks all fields defined inside your model object, and makes all parameters accessible using your **model’s parameters()** or **named_parameters()** methods."
   ]
  },
  {
   "cell_type": "code",
   "execution_count": 14,
   "id": "43862746",
   "metadata": {},
   "outputs": [
    {
     "name": "stdout",
     "output_type": "stream",
     "text": [
      "Model structure: NeuralNetwork(\n",
      "  (flatten): Flatten(start_dim=1, end_dim=-1)\n",
      "  (linear_relu_stack): Sequential(\n",
      "    (0): Linear(in_features=784, out_features=512, bias=True)\n",
      "    (1): ReLU()\n",
      "    (2): Linear(in_features=512, out_features=512, bias=True)\n",
      "    (3): ReLU()\n",
      "    (4): Linear(in_features=512, out_features=10, bias=True)\n",
      "  )\n",
      ")\n",
      "\n",
      "\n",
      "Layer: linear_relu_stack.0.weight | Size: torch.Size([512, 784]) | Values : tensor([[ 0.0245,  0.0324, -0.0072,  ..., -0.0309, -0.0332,  0.0102],\n",
      "        [-0.0018,  0.0276,  0.0044,  ..., -0.0313,  0.0024, -0.0218]],\n",
      "       grad_fn=<SliceBackward0>) \n",
      "\n",
      "Layer: linear_relu_stack.0.bias | Size: torch.Size([512]) | Values : tensor([ 0.0259, -0.0124], grad_fn=<SliceBackward0>) \n",
      "\n",
      "Layer: linear_relu_stack.2.weight | Size: torch.Size([512, 512]) | Values : tensor([[-0.0409, -0.0207,  0.0323,  ...,  0.0018,  0.0057, -0.0339],\n",
      "        [ 0.0302,  0.0235,  0.0251,  ...,  0.0137,  0.0371,  0.0289]],\n",
      "       grad_fn=<SliceBackward0>) \n",
      "\n",
      "Layer: linear_relu_stack.2.bias | Size: torch.Size([512]) | Values : tensor([-0.0223, -0.0441], grad_fn=<SliceBackward0>) \n",
      "\n",
      "Layer: linear_relu_stack.4.weight | Size: torch.Size([10, 512]) | Values : tensor([[ 0.0441,  0.0386, -0.0250,  ...,  0.0384,  0.0359, -0.0429],\n",
      "        [ 0.0330, -0.0402,  0.0314,  ..., -0.0024,  0.0022,  0.0266]],\n",
      "       grad_fn=<SliceBackward0>) \n",
      "\n",
      "Layer: linear_relu_stack.4.bias | Size: torch.Size([10]) | Values : tensor([ 0.0329, -0.0242], grad_fn=<SliceBackward0>) \n",
      "\n"
     ]
    }
   ],
   "source": [
    "print(f\"Model structure: {model}\\n\\n\")\n",
    "\n",
    "for name, param in model.named_parameters():\n",
    "    print(f\"Layer: {name} | Size: {param.size()} | Values : {param[:2]} \\n\")"
   ]
  },
  {
   "cell_type": "code",
   "execution_count": null,
   "id": "bc255938",
   "metadata": {},
   "outputs": [],
   "source": []
  }
 ],
 "metadata": {
  "kernelspec": {
   "display_name": "Python 3 (ipykernel)",
   "language": "python",
   "name": "python3"
  },
  "language_info": {
   "codemirror_mode": {
    "name": "ipython",
    "version": 3
   },
   "file_extension": ".py",
   "mimetype": "text/x-python",
   "name": "python",
   "nbconvert_exporter": "python",
   "pygments_lexer": "ipython3",
   "version": "3.11.4"
  }
 },
 "nbformat": 4,
 "nbformat_minor": 5
}
