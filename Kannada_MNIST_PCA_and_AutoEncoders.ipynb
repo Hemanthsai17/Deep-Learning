{
  "cells": [
    {
      "cell_type": "markdown",
      "metadata": {
        "id": "zEnHcoue87f9"
      },
      "source": [
        "# PCA"
      ]
    },
    {
      "cell_type": "code",
      "execution_count": 13,
      "metadata": {
        "id": "dbcQ284m8_FV"
      },
      "outputs": [],
      "source": [
        "import sklearn\n",
        "import pandas as pd\n",
        "import numpy as np\n",
        "from sklearn.decomposition import PCA\n",
        "from numpy import linalg as LA\n",
        "from sklearn.model_selection import train_test_split\n",
        "from sklearn.preprocessing import StandardScaler\n",
        "import os\n",
        "import torch\n",
        "import torch.nn as nn\n",
        "import matplotlib.pyplot as plt\n",
        "from torch.utils.data import Dataset, DataLoader"
      ]
    },
    {
      "cell_type": "code",
      "source": [
        "from google.colab import drive\n",
        "drive.mount('/content/drive')"
      ],
      "metadata": {
        "id": "DPusXByKW031",
        "colab": {
          "base_uri": "https://localhost:8080/"
        },
        "outputId": "71fd625a-cd6e-4008-93e5-7a91878f00a9"
      },
      "execution_count": 14,
      "outputs": [
        {
          "output_type": "stream",
          "name": "stdout",
          "text": [
            "Drive already mounted at /content/drive; to attempt to forcibly remount, call drive.mount(\"/content/drive\", force_remount=True).\n"
          ]
        }
      ]
    },
    {
      "cell_type": "code",
      "execution_count": 15,
      "metadata": {
        "id": "JV67Hq2m9LMF"
      },
      "outputs": [],
      "source": [
        "training = pd.read_csv('/content/drive/MyDrive/train.csv')\n",
        "testing = pd.read_csv('/content/drive/MyDrive/test.csv')"
      ]
    },
    {
      "cell_type": "code",
      "source": [
        "training, val = train_test_split(training, test_size=0.1, random_state=42)"
      ],
      "metadata": {
        "id": "0SHshI3gBVXd"
      },
      "execution_count": 16,
      "outputs": []
    },
    {
      "cell_type": "code",
      "source": [
        "training.values.shape"
      ],
      "metadata": {
        "colab": {
          "base_uri": "https://localhost:8080/"
        },
        "id": "2xg9y89WEJMg",
        "outputId": "1e925d64-cbfa-4f07-d5e5-b753c22743d9"
      },
      "execution_count": 17,
      "outputs": [
        {
          "output_type": "execute_result",
          "data": {
            "text/plain": [
              "(54000, 785)"
            ]
          },
          "metadata": {},
          "execution_count": 17
        }
      ]
    },
    {
      "cell_type": "code",
      "source": [
        "testing.values.shape"
      ],
      "metadata": {
        "colab": {
          "base_uri": "https://localhost:8080/"
        },
        "id": "8E9WVS2NEJko",
        "outputId": "c422b18d-c8a7-4d0a-ffbc-14f376aa626d"
      },
      "execution_count": 18,
      "outputs": [
        {
          "output_type": "execute_result",
          "data": {
            "text/plain": [
              "(5000, 785)"
            ]
          },
          "metadata": {},
          "execution_count": 18
        }
      ]
    },
    {
      "cell_type": "code",
      "source": [
        "val.values.shape"
      ],
      "metadata": {
        "colab": {
          "base_uri": "https://localhost:8080/"
        },
        "id": "n4cCSJ750PQO",
        "outputId": "cb2af16f-b054-4ea1-f919-fcff887e1d0c"
      },
      "execution_count": 19,
      "outputs": [
        {
          "output_type": "execute_result",
          "data": {
            "text/plain": [
              "(6000, 785)"
            ]
          },
          "metadata": {},
          "execution_count": 19
        }
      ]
    },
    {
      "cell_type": "code",
      "source": [
        "import torch\n",
        "device = (\n",
        "    \"cuda\"\n",
        "    if torch.cuda.is_available()\n",
        "    else \"mps\"\n",
        "    if torch.backends.mps.is_available()\n",
        "    else \"cpu\"\n",
        ")\n",
        "print(f\"Using {device} device\")"
      ],
      "metadata": {
        "colab": {
          "base_uri": "https://localhost:8080/"
        },
        "id": "6HzPO64Qyps9",
        "outputId": "fd4a50c5-4b0d-47a4-f1db-6963a8519722"
      },
      "execution_count": 20,
      "outputs": [
        {
          "output_type": "stream",
          "name": "stdout",
          "text": [
            "Using cpu device\n"
          ]
        }
      ]
    },
    {
      "cell_type": "code",
      "source": [
        "tr_label = training[\"label\"]\n",
        "tr_pixel_vals = training.drop(\"label\",axis = 1)\n",
        "\n",
        "tst_label = testing[\"id\"]\n",
        "tst_pixel_vals = testing.drop(\"id\", axis = 1)\n",
        "\n",
        "v_label = val['label']\n",
        "v_pixel_vals = val.drop(\"label\",axis = 1)"
      ],
      "metadata": {
        "id": "5B9KFPgwzXAF"
      },
      "execution_count": 21,
      "outputs": []
    },
    {
      "cell_type": "code",
      "source": [
        "class CustomImageDataset(Dataset):\n",
        "    def __init__(self, labels, pixel_vals, transform=None, target_transform=None):\n",
        "        self.labels = labels\n",
        "        self.pixels = pixel_vals\n",
        "        self.transform = transform\n",
        "        self.target_transform = target_transform\n",
        "\n",
        "    def __len__(self):\n",
        "        return len(self.labels)\n",
        "\n",
        "    def __getitem__(self, idx):\n",
        "        pixel_values = self.pixels[idx].astype(float).reshape(28, 28).astype(np.float32)  # Cast to float32\n",
        "        label = self.labels[idx]  # Assuming the label is in the second column\n",
        "\n",
        "        if self.transform:\n",
        "            pixel_values = self.transform(pixel_values)\n",
        "\n",
        "        if self.target_transform:\n",
        "            label = self.target_transform(label)\n",
        "\n",
        "        return pixel_values[None, :, :], label  # Add an extra dimension for the channel (1)\n",
        "\n",
        "\n",
        "Train = CustomImageDataset(tr_label, tr_pixel_vals.values)\n",
        "Test = CustomImageDataset(tst_label, tst_pixel_vals.values)\n",
        "Val = CustomImageDataset(v_label, v_pixel_vals.values)"
      ],
      "metadata": {
        "id": "PbdKmjiZzhTt"
      },
      "execution_count": 22,
      "outputs": []
    },
    {
      "cell_type": "code",
      "source": [
        "train_dataloader = DataLoader(Train, batch_size=32, shuffle=True)\n",
        "test_dataloader = DataLoader(Test, batch_size=32, shuffle=True)\n",
        "val_dataloader = DataLoader(Val, batch_size=32, shuffle=False)"
      ],
      "metadata": {
        "id": "qlfpJY2lz9ll"
      },
      "execution_count": 23,
      "outputs": []
    },
    {
      "cell_type": "code",
      "source": [
        "eig_val,eig_vec = np.linalg.eig(np.array((training.drop(training.columns[0],axis = 1)).cov()))"
      ],
      "metadata": {
        "id": "5PoQxJwD0DfV"
      },
      "execution_count": 26,
      "outputs": []
    },
    {
      "cell_type": "code",
      "source": [
        "'''eig_vec[5]\n",
        "eig_val'''"
      ],
      "metadata": {
        "colab": {
          "base_uri": "https://localhost:8080/",
          "height": 35
        },
        "id": "kHl1G7Y-0F5V",
        "outputId": "ddb5fea6-f957-468d-caf6-889f9186dee6"
      },
      "execution_count": 30,
      "outputs": [
        {
          "output_type": "execute_result",
          "data": {
            "text/plain": [
              "'eig_vec[5]\\neig_val'"
            ],
            "application/vnd.google.colaboratory.intrinsic+json": {
              "type": "string"
            }
          },
          "metadata": {},
          "execution_count": 30
        }
      ]
    },
    {
      "cell_type": "code",
      "source": [
        "len(list(eig_val))"
      ],
      "metadata": {
        "colab": {
          "base_uri": "https://localhost:8080/"
        },
        "id": "jw-Q7bNd0fzF",
        "outputId": "b26fcc70-971d-41e7-af01-efa7c8b2ba45"
      },
      "execution_count": 29,
      "outputs": [
        {
          "output_type": "execute_result",
          "data": {
            "text/plain": [
              "784"
            ]
          },
          "metadata": {},
          "execution_count": 29
        }
      ]
    },
    {
      "cell_type": "code",
      "source": [
        "eig_val_contribution = [i/sum(eig_val) for i in eig_val]\n",
        "x = [i for i in range(len(eig_val))]"
      ],
      "metadata": {
        "id": "uGu5oCUe0p79"
      },
      "execution_count": 31,
      "outputs": []
    },
    {
      "cell_type": "code",
      "source": [
        "plt.plot(x, eig_val_contribution, '*-', linewidth=2, color='blue')\n",
        "plt.title('Scree Plot')\n",
        "plt.xlabel('Principal Component')\n",
        "plt.ylabel('Variance Explained')\n",
        "plt.show()"
      ],
      "metadata": {
        "colab": {
          "base_uri": "https://localhost:8080/",
          "height": 472
        },
        "id": "LyFL3rH20ttl",
        "outputId": "abdb2082-339d-404a-f653-2710155685e3"
      },
      "execution_count": 32,
      "outputs": [
        {
          "output_type": "display_data",
          "data": {
            "text/plain": [
              "<Figure size 640x480 with 1 Axes>"
            ],
            "image/png": "[encoded data removed]"
          },
          "metadata": {}
        }
      ]
    },
    {
      "cell_type": "code",
      "source": [
        "sum = 0\n",
        "count = 0\n",
        "for i in eig_val_contribution:\n",
        "    if sum > 0.85:\n",
        "        break\n",
        "    sum = sum+i\n",
        "    count = count + 1\n",
        "print(f\"eigenvalues that contribute {sum} sum is {count}\")"
      ],
      "metadata": {
        "colab": {
          "base_uri": "https://localhost:8080/"
        },
        "id": "xXyE46xo0xEn",
        "outputId": "e148caa6-c744-450d-aab6-b35b6ed3f2dd"
      },
      "execution_count": 33,
      "outputs": [
        {
          "output_type": "stream",
          "name": "stdout",
          "text": [
            "eigenvalues that contribute 0.850381370131026 sum is 120\n"
          ]
        }
      ]
    },
    {
      "cell_type": "code",
      "source": [
        "from sklearn.preprocessing import StandardScaler\n",
        "scaler = StandardScaler()\n",
        "scaled_df=training.drop(training.columns[0],axis = 1).copy()\n",
        "scaled_df=pd.DataFrame(scaler.fit_transform(scaled_df), columns=scaled_df.columns)"
      ],
      "metadata": {
        "id": "0jm4w3sg0zCM"
      },
      "execution_count": 37,
      "outputs": []
    },
    {
      "cell_type": "code",
      "source": [
        "scaled_df"
      ],
      "metadata": {
        "colab": {
          "base_uri": "https://localhost:8080/",
          "height": 424
        },
        "id": "7mrGXRiZ01fs",
        "outputId": "156df3a3-162c-4250-f8ae-16c6814bd05a"
      },
      "execution_count": 38,
      "outputs": [
        {
          "output_type": "execute_result",
          "data": {
            "text/plain": [
              "       pixel0  pixel1  pixel2  pixel3  pixel4    pixel5    pixel6    pixel7  \\\n",
              "0         0.0     0.0     0.0     0.0     0.0 -0.004611 -0.011383 -0.014602   \n",
              "1         0.0     0.0     0.0     0.0     0.0 -0.004611 -0.011383 -0.014602   \n",
              "2         0.0     0.0     0.0     0.0     0.0 -0.004611 -0.011383 -0.014602   \n",
              "3         0.0     0.0     0.0     0.0     0.0 -0.004611 -0.011383 -0.014602   \n",
              "4         0.0     0.0     0.0     0.0     0.0 -0.004611 -0.011383 -0.014602   \n",
              "...       ...     ...     ...     ...     ...       ...       ...       ...   \n",
              "53995     0.0     0.0     0.0     0.0     0.0 -0.004611 -0.011383 -0.014602   \n",
              "53996     0.0     0.0     0.0     0.0     0.0 -0.004611 -0.011383 -0.014602   \n",
              "53997     0.0     0.0     0.0     0.0     0.0 -0.004611 -0.011383 -0.014602   \n",
              "53998     0.0     0.0     0.0     0.0     0.0 -0.004611 -0.011383 -0.014602   \n",
              "53999     0.0     0.0     0.0     0.0     0.0 -0.004611 -0.011383 -0.014602   \n",
              "\n",
              "         pixel8    pixel9  ...  pixel774  pixel775  pixel776  pixel777  \\\n",
              "0     -0.019156 -0.023446  ... -0.011377 -0.008852 -0.010534 -0.011456   \n",
              "1     -0.019156 -0.023446  ... -0.011377 -0.008852 -0.010534 -0.011456   \n",
              "2     -0.019156 -0.023446  ... -0.011377 -0.008852 -0.010534 -0.011456   \n",
              "3     -0.019156 -0.023446  ... -0.011377 -0.008852 -0.010534 -0.011456   \n",
              "4     -0.019156 -0.023446  ... -0.011377 -0.008852 -0.010534 -0.011456   \n",
              "...         ...       ...  ...       ...       ...       ...       ...   \n",
              "53995 -0.019156 -0.023446  ... -0.011377 -0.008852 -0.010534 -0.011456   \n",
              "53996 -0.019156 -0.023446  ... -0.011377 -0.008852 -0.010534 -0.011456   \n",
              "53997 -0.019156 -0.023446  ... -0.011377 -0.008852 -0.010534 -0.011456   \n",
              "53998 -0.019156 -0.023446  ... -0.011377 -0.008852 -0.010534 -0.011456   \n",
              "53999 -0.019156 -0.023446  ... -0.011377 -0.008852 -0.010534 -0.011456   \n",
              "\n",
              "       pixel778  pixel779  pixel780  pixel781  pixel782  pixel783  \n",
              "0      -0.00744 -0.004303 -0.004303       0.0 -0.004303       0.0  \n",
              "1      -0.00744 -0.004303 -0.004303       0.0 -0.004303       0.0  \n",
              "2      -0.00744 -0.004303 -0.004303       0.0 -0.004303       0.0  \n",
              "3      -0.00744 -0.004303 -0.004303       0.0 -0.004303       0.0  \n",
              "4      -0.00744 -0.004303 -0.004303       0.0 -0.004303       0.0  \n",
              "...         ...       ...       ...       ...       ...       ...  \n",
              "53995  -0.00744 -0.004303 -0.004303       0.0 -0.004303       0.0  \n",
              "53996  -0.00744 -0.004303 -0.004303       0.0 -0.004303       0.0  \n",
              "53997  -0.00744 -0.004303 -0.004303       0.0 -0.004303       0.0  \n",
              "53998  -0.00744 -0.004303 -0.004303       0.0 -0.004303       0.0  \n",
              "53999  -0.00744 -0.004303 -0.004303       0.0 -0.004303       0.0  \n",
              "\n",
              "[54000 rows x 784 columns]"
            ],
            "text/html": [
              "\n",
              "  <div id=\"df-c986d8d5-71f3-46d8-8722-89e05245c557\" class=\"colab-df-container\">\n",
              "    <div>\n",
              "<style scoped>\n",
              "    .dataframe tbody tr th:only-of-type {\n",
              "        vertical-align: middle;\n",
              "    }\n",
              "\n",
              "    .dataframe tbody tr th {\n",
              "        vertical-align: top;\n",
              "    }\n",
              "\n",
              "    .dataframe thead th {\n",
              "        text-align: right;\n",
              "    }\n",
              "</style>\n",
              "<table border=\"1\" class=\"dataframe\">\n",
              "  <thead>\n",
              "    <tr style=\"text-align: right;\">\n",
              "      <th></th>\n",
              "      <th>pixel0</th>\n",
              "      <th>pixel1</th>\n",
              "      <th>pixel2</th>\n",
              "      <th>pixel3</th>\n",
              "      <th>pixel4</th>\n",
              "      <th>pixel5</th>\n",
              "      <th>pixel6</th>\n",
              "      <th>pixel7</th>\n",
              "      <th>pixel8</th>\n",
              "      <th>pixel9</th>\n",
              "      <th>...</th>\n",
              "      <th>pixel774</th>\n",
              "      <th>pixel775</th>\n",
              "      <th>pixel776</th>\n",
              "      <th>pixel777</th>\n",
              "      <th>pixel778</th>\n",
              "      <th>pixel779</th>\n",
              "      <th>pixel780</th>\n",
              "      <th>pixel781</th>\n",
              "      <th>pixel782</th>\n",
              "      <th>pixel783</th>\n",
              "    </tr>\n",
              "  </thead>\n",
              "  <tbody>\n",
              "    <tr>\n",
              "      <th>0</th>\n",
              "      <td>0.0</td>\n",
              "      <td>0.0</td>\n",
              "      <td>0.0</td>\n",
              "      <td>0.0</td>\n",
              "      <td>0.0</td>\n",
              "      <td>-0.004611</td>\n",
              "      <td>-0.011383</td>\n",
              "      <td>-0.014602</td>\n",
              "      <td>-0.019156</td>\n",
              "      <td>-0.023446</td>\n",
              "      <td>...</td>\n",
              "      <td>-0.011377</td>\n",
              "      <td>-0.008852</td>\n",
              "      <td>-0.010534</td>\n",
              "      <td>-0.011456</td>\n",
              "      <td>-0.00744</td>\n",
              "      <td>-0.004303</td>\n",
              "      <td>-0.004303</td>\n",
              "      <td>0.0</td>\n",
              "      <td>-0.004303</td>\n",
              "      <td>0.0</td>\n",
              "    </tr>\n",
              "    <tr>\n",
              "      <th>1</th>\n",
              "      <td>0.0</td>\n",
              "      <td>0.0</td>\n",
              "      <td>0.0</td>\n",
              "      <td>0.0</td>\n",
              "      <td>0.0</td>\n",
              "      <td>-0.004611</td>\n",
              "      <td>-0.011383</td>\n",
              "      <td>-0.014602</td>\n",
              "      <td>-0.019156</td>\n",
              "      <td>-0.023446</td>\n",
              "      <td>...</td>\n",
              "      <td>-0.011377</td>\n",
              "      <td>-0.008852</td>\n",
              "      <td>-0.010534</td>\n",
              "      <td>-0.011456</td>\n",
              "      <td>-0.00744</td>\n",
              "      <td>-0.004303</td>\n",
              "      <td>-0.004303</td>\n",
              "      <td>0.0</td>\n",
              "      <td>-0.004303</td>\n",
              "      <td>0.0</td>\n",
              "    </tr>\n",
              "    <tr>\n",
              "      <th>2</th>\n",
              "      <td>0.0</td>\n",
              "      <td>0.0</td>\n",
              "      <td>0.0</td>\n",
              "      <td>0.0</td>\n",
              "      <td>0.0</td>\n",
              "      <td>-0.004611</td>\n",
              "      <td>-0.011383</td>\n",
              "      <td>-0.014602</td>\n",
              "      <td>-0.019156</td>\n",
              "      <td>-0.023446</td>\n",
              "      <td>...</td>\n",
              "      <td>-0.011377</td>\n",
              "      <td>-0.008852</td>\n",
              "      <td>-0.010534</td>\n",
              "      <td>-0.011456</td>\n",
              "      <td>-0.00744</td>\n",
              "      <td>-0.004303</td>\n",
              "      <td>-0.004303</td>\n",
              "      <td>0.0</td>\n",
              "      <td>-0.004303</td>\n",
              "      <td>0.0</td>\n",
              "    </tr>\n",
              "    <tr>\n",
              "      <th>3</th>\n",
              "      <td>0.0</td>\n",
              "      <td>0.0</td>\n",
              "      <td>0.0</td>\n",
              "      <td>0.0</td>\n",
              "      <td>0.0</td>\n",
              "      <td>-0.004611</td>\n",
              "      <td>-0.011383</td>\n",
              "      <td>-0.014602</td>\n",
              "      <td>-0.019156</td>\n",
              "      <td>-0.023446</td>\n",
              "      <td>...</td>\n",
              "      <td>-0.011377</td>\n",
              "      <td>-0.008852</td>\n",
              "      <td>-0.010534</td>\n",
              "      <td>-0.011456</td>\n",
              "      <td>-0.00744</td>\n",
              "      <td>-0.004303</td>\n",
              "      <td>-0.004303</td>\n",
              "      <td>0.0</td>\n",
              "      <td>-0.004303</td>\n",
              "      <td>0.0</td>\n",
              "    </tr>\n",
              "    <tr>\n",
              "      <th>4</th>\n",
              "      <td>0.0</td>\n",
              "      <td>0.0</td>\n",
              "      <td>0.0</td>\n",
              "      <td>0.0</td>\n",
              "      <td>0.0</td>\n",
              "      <td>-0.004611</td>\n",
              "      <td>-0.011383</td>\n",
              "      <td>-0.014602</td>\n",
              "      <td>-0.019156</td>\n",
              "      <td>-0.023446</td>\n",
              "      <td>...</td>\n",
              "      <td>-0.011377</td>\n",
              "      <td>-0.008852</td>\n",
              "      <td>-0.010534</td>\n",
              "      <td>-0.011456</td>\n",
              "      <td>-0.00744</td>\n",
              "      <td>-0.004303</td>\n",
              "      <td>-0.004303</td>\n",
              "      <td>0.0</td>\n",
              "      <td>-0.004303</td>\n",
              "      <td>0.0</td>\n",
              "    </tr>\n",
              "    <tr>\n",
              "      <th>...</th>\n",
              "      <td>...</td>\n",
              "      <td>...</td>\n",
              "      <td>...</td>\n",
              "      <td>...</td>\n",
              "      <td>...</td>\n",
              "      <td>...</td>\n",
              "      <td>...</td>\n",
              "      <td>...</td>\n",
              "      <td>...</td>\n",
              "      <td>...</td>\n",
              "      <td>...</td>\n",
              "      <td>...</td>\n",
              "      <td>...</td>\n",
              "      <td>...</td>\n",
              "      <td>...</td>\n",
              "      <td>...</td>\n",
              "      <td>...</td>\n",
              "      <td>...</td>\n",
              "      <td>...</td>\n",
              "      <td>...</td>\n",
              "      <td>...</td>\n",
              "    </tr>\n",
              "    <tr>\n",
              "      <th>53995</th>\n",
              "      <td>0.0</td>\n",
              "      <td>0.0</td>\n",
              "      <td>0.0</td>\n",
              "      <td>0.0</td>\n",
              "      <td>0.0</td>\n",
              "      <td>-0.004611</td>\n",
              "      <td>-0.011383</td>\n",
              "      <td>-0.014602</td>\n",
              "      <td>-0.019156</td>\n",
              "      <td>-0.023446</td>\n",
              "      <td>...</td>\n",
              "      <td>-0.011377</td>\n",
              "      <td>-0.008852</td>\n",
              "      <td>-0.010534</td>\n",
              "      <td>-0.011456</td>\n",
              "      <td>-0.00744</td>\n",
              "      <td>-0.004303</td>\n",
              "      <td>-0.004303</td>\n",
              "      <td>0.0</td>\n",
              "      <td>-0.004303</td>\n",
              "      <td>0.0</td>\n",
              "    </tr>\n",
              "    <tr>\n",
              "      <th>53996</th>\n",
              "      <td>0.0</td>\n",
              "      <td>0.0</td>\n",
              "      <td>0.0</td>\n",
              "      <td>0.0</td>\n",
              "      <td>0.0</td>\n",
              "      <td>-0.004611</td>\n",
              "      <td>-0.011383</td>\n",
              "      <td>-0.014602</td>\n",
              "      <td>-0.019156</td>\n",
              "      <td>-0.023446</td>\n",
              "      <td>...</td>\n",
              "      <td>-0.011377</td>\n",
              "      <td>-0.008852</td>\n",
              "      <td>-0.010534</td>\n",
              "      <td>-0.011456</td>\n",
              "      <td>-0.00744</td>\n",
              "      <td>-0.004303</td>\n",
              "      <td>-0.004303</td>\n",
              "      <td>0.0</td>\n",
              "      <td>-0.004303</td>\n",
              "      <td>0.0</td>\n",
              "    </tr>\n",
              "    <tr>\n",
              "      <th>53997</th>\n",
              "      <td>0.0</td>\n",
              "      <td>0.0</td>\n",
              "      <td>0.0</td>\n",
              "      <td>0.0</td>\n",
              "      <td>0.0</td>\n",
              "      <td>-0.004611</td>\n",
              "      <td>-0.011383</td>\n",
              "      <td>-0.014602</td>\n",
              "      <td>-0.019156</td>\n",
              "      <td>-0.023446</td>\n",
              "      <td>...</td>\n",
              "      <td>-0.011377</td>\n",
              "      <td>-0.008852</td>\n",
              "      <td>-0.010534</td>\n",
              "      <td>-0.011456</td>\n",
              "      <td>-0.00744</td>\n",
              "      <td>-0.004303</td>\n",
              "      <td>-0.004303</td>\n",
              "      <td>0.0</td>\n",
              "      <td>-0.004303</td>\n",
              "      <td>0.0</td>\n",
              "    </tr>\n",
              "    <tr>\n",
              "      <th>53998</th>\n",
              "      <td>0.0</td>\n",
              "      <td>0.0</td>\n",
              "      <td>0.0</td>\n",
              "      <td>0.0</td>\n",
              "      <td>0.0</td>\n",
              "      <td>-0.004611</td>\n",
              "      <td>-0.011383</td>\n",
              "      <td>-0.014602</td>\n",
              "      <td>-0.019156</td>\n",
              "      <td>-0.023446</td>\n",
              "      <td>...</td>\n",
              "      <td>-0.011377</td>\n",
              "      <td>-0.008852</td>\n",
              "      <td>-0.010534</td>\n",
              "      <td>-0.011456</td>\n",
              "      <td>-0.00744</td>\n",
              "      <td>-0.004303</td>\n",
              "      <td>-0.004303</td>\n",
              "      <td>0.0</td>\n",
              "      <td>-0.004303</td>\n",
              "      <td>0.0</td>\n",
              "    </tr>\n",
              "    <tr>\n",
              "      <th>53999</th>\n",
              "      <td>0.0</td>\n",
              "      <td>0.0</td>\n",
              "      <td>0.0</td>\n",
              "      <td>0.0</td>\n",
              "      <td>0.0</td>\n",
              "      <td>-0.004611</td>\n",
              "      <td>-0.011383</td>\n",
              "      <td>-0.014602</td>\n",
              "      <td>-0.019156</td>\n",
              "      <td>-0.023446</td>\n",
              "      <td>...</td>\n",
              "      <td>-0.011377</td>\n",
              "      <td>-0.008852</td>\n",
              "      <td>-0.010534</td>\n",
              "      <td>-0.011456</td>\n",
              "      <td>-0.00744</td>\n",
              "      <td>-0.004303</td>\n",
              "      <td>-0.004303</td>\n",
              "      <td>0.0</td>\n",
              "      <td>-0.004303</td>\n",
              "      <td>0.0</td>\n",
              "    </tr>\n",
              "  </tbody>\n",
              "</table>\n",
              "<p>54000 rows × 784 columns</p>\n",
              "</div>\n",
              "    <div class=\"colab-df-buttons\">\n",
              "\n",
              "  <div class=\"colab-df-container\">\n",
              "    <button class=\"colab-df-convert\" onclick=\"convertToInteractive('df-c986d8d5-71f3-46d8-8722-89e05245c557')\"\n",
              "            title=\"Convert this dataframe to an interactive table.\"\n",
              "            style=\"display:none;\">\n",
              "\n",
              "  <svg xmlns=\"http://www.w3.org/2000/svg\" height=\"24px\" viewBox=\"0 -960 960 960\">\n",
              "    <path d=\"M120-120v-720h720v720H120Zm60-500h600v-160H180v160Zm220 220h160v-160H400v160Zm0 220h160v-160H400v160ZM180-400h160v-160H180v160Zm440 0h160v-160H620v160ZM180-180h160v-160H180v160Zm440 0h160v-160H620v160Z\"/>\n",
              "  </svg>\n",
              "    </button>\n",
              "\n",
              "  <style>\n",
              "    .colab-df-container {\n",
              "      display:flex;\n",
              "      gap: 12px;\n",
              "    }\n",
              "\n",
              "    .colab-df-convert {\n",
              "      background-color: #E8F0FE;\n",
              "      border: none;\n",
              "      border-radius: 50%;\n",
              "      cursor: pointer;\n",
              "      display: none;\n",
              "      fill: #1967D2;\n",
              "      height: 32px;\n",
              "      padding: 0 0 0 0;\n",
              "      width: 32px;\n",
              "    }\n",
              "\n",
              "    .colab-df-convert:hover {\n",
              "      background-color: #E2EBFA;\n",
              "      box-shadow: 0px 1px 2px rgba(60, 64, 67, 0.3), 0px 1px 3px 1px rgba(60, 64, 67, 0.15);\n",
              "      fill: #174EA6;\n",
              "    }\n",
              "\n",
              "    .colab-df-buttons div {\n",
              "      margin-bottom: 4px;\n",
              "    }\n",
              "\n",
              "    [theme=dark] .colab-df-convert {\n",
              "      background-color: #3B4455;\n",
              "      fill: #D2E3FC;\n",
              "    }\n",
              "\n",
              "    [theme=dark] .colab-df-convert:hover {\n",
              "      background-color: #434B5C;\n",
              "      box-shadow: 0px 1px 3px 1px rgba(0, 0, 0, 0.15);\n",
              "      filter: drop-shadow(0px 1px 2px rgba(0, 0, 0, 0.3));\n",
              "      fill: #FFFFFF;\n",
              "    }\n",
              "  </style>\n",
              "\n",
              "    <script>\n",
              "      const buttonEl =\n",
              "        document.querySelector('#df-c986d8d5-71f3-46d8-8722-89e05245c557 button.colab-df-convert');\n",
              "      buttonEl.style.display =\n",
              "        google.colab.kernel.accessAllowed ? 'block' : 'none';\n",
              "\n",
              "      async function convertToInteractive(key) {\n",
              "        const element = document.querySelector('#df-c986d8d5-71f3-46d8-8722-89e05245c557');\n",
              "        const dataTable =\n",
              "          await google.colab.kernel.invokeFunction('convertToInteractive',\n",
              "                                                    [key], {});\n",
              "        if (!dataTable) return;\n",
              "\n",
              "        const docLinkHtml = 'Like what you see? Visit the ' +\n",
              "          '<a target=\"_blank\" href=https://colab.research.google.com/notebooks/data_table.ipynb>data table notebook</a>'\n",
              "          + ' to learn more about interactive tables.';\n",
              "        element.innerHTML = '';\n",
              "        dataTable['output_type'] = 'display_data';\n",
              "        await google.colab.output.renderOutput(dataTable, element);\n",
              "        const docLink = document.createElement('div');\n",
              "        docLink.innerHTML = docLinkHtml;\n",
              "        element.appendChild(docLink);\n",
              "      }\n",
              "    </script>\n",
              "  </div>\n",
              "\n",
              "\n",
              "<div id=\"df-3e4b460d-8fab-4279-8cb7-e92b5392f37a\">\n",
              "  <button class=\"colab-df-quickchart\" onclick=\"quickchart('df-3e4b460d-8fab-4279-8cb7-e92b5392f37a')\"\n",
              "            title=\"Suggest charts.\"\n",
              "            style=\"display:none;\">\n",
              "\n",
              "<svg xmlns=\"http://www.w3.org/2000/svg\" height=\"24px\"viewBox=\"0 0 24 24\"\n",
              "     width=\"24px\">\n",
              "    <g>\n",
              "        <path d=\"M19 3H5c-1.1 0-2 .9-2 2v14c0 1.1.9 2 2 2h14c1.1 0 2-.9 2-2V5c0-1.1-.9-2-2-2zM9 17H7v-7h2v7zm4 0h-2V7h2v10zm4 0h-2v-4h2v4z\"/>\n",
              "    </g>\n",
              "</svg>\n",
              "  </button>\n",
              "\n",
              "<style>\n",
              "  .colab-df-quickchart {\n",
              "      --bg-color: #E8F0FE;\n",
              "      --fill-color: #1967D2;\n",
              "      --hover-bg-color: #E2EBFA;\n",
              "      --hover-fill-color: #174EA6;\n",
              "      --disabled-fill-color: #AAA;\n",
              "      --disabled-bg-color: #DDD;\n",
              "  }\n",
              "\n",
              "  [theme=dark] .colab-df-quickchart {\n",
              "      --bg-color: #3B4455;\n",
              "      --fill-color: #D2E3FC;\n",
              "      --hover-bg-color: #434B5C;\n",
              "      --hover-fill-color: #FFFFFF;\n",
              "      --disabled-bg-color: #3B4455;\n",
              "      --disabled-fill-color: #666;\n",
              "  }\n",
              "\n",
              "  .colab-df-quickchart {\n",
              "    background-color: var(--bg-color);\n",
              "    border: none;\n",
              "    border-radius: 50%;\n",
              "    cursor: pointer;\n",
              "    display: none;\n",
              "    fill: var(--fill-color);\n",
              "    height: 32px;\n",
              "    padding: 0;\n",
              "    width: 32px;\n",
              "  }\n",
              "\n",
              "  .colab-df-quickchart:hover {\n",
              "    background-color: var(--hover-bg-color);\n",
              "    box-shadow: 0 1px 2px rgba(60, 64, 67, 0.3), 0 1px 3px 1px rgba(60, 64, 67, 0.15);\n",
              "    fill: var(--button-hover-fill-color);\n",
              "  }\n",
              "\n",
              "  .colab-df-quickchart-complete:disabled,\n",
              "  .colab-df-quickchart-complete:disabled:hover {\n",
              "    background-color: var(--disabled-bg-color);\n",
              "    fill: var(--disabled-fill-color);\n",
              "    box-shadow: none;\n",
              "  }\n",
              "\n",
              "  .colab-df-spinner {\n",
              "    border: 2px solid var(--fill-color);\n",
              "    border-color: transparent;\n",
              "    border-bottom-color: var(--fill-color);\n",
              "    animation:\n",
              "      spin 1s steps(1) infinite;\n",
              "  }\n",
              "\n",
              "  @keyframes spin {\n",
              "    0% {\n",
              "      border-color: transparent;\n",
              "      border-bottom-color: var(--fill-color);\n",
              "      border-left-color: var(--fill-color);\n",
              "    }\n",
              "    20% {\n",
              "      border-color: transparent;\n",
              "      border-left-color: var(--fill-color);\n",
              "      border-top-color: var(--fill-color);\n",
              "    }\n",
              "    30% {\n",
              "      border-color: transparent;\n",
              "      border-left-color: var(--fill-color);\n",
              "      border-top-color: var(--fill-color);\n",
              "      border-right-color: var(--fill-color);\n",
              "    }\n",
              "    40% {\n",
              "      border-color: transparent;\n",
              "      border-right-color: var(--fill-color);\n",
              "      border-top-color: var(--fill-color);\n",
              "    }\n",
              "    60% {\n",
              "      border-color: transparent;\n",
              "      border-right-color: var(--fill-color);\n",
              "    }\n",
              "    80% {\n",
              "      border-color: transparent;\n",
              "      border-right-color: var(--fill-color);\n",
              "      border-bottom-color: var(--fill-color);\n",
              "    }\n",
              "    90% {\n",
              "      border-color: transparent;\n",
              "      border-bottom-color: var(--fill-color);\n",
              "    }\n",
              "  }\n",
              "</style>\n",
              "\n",
              "  <script>\n",
              "    async function quickchart(key) {\n",
              "      const quickchartButtonEl =\n",
              "        document.querySelector('#' + key + ' button');\n",
              "      quickchartButtonEl.disabled = true;  // To prevent multiple clicks.\n",
              "      quickchartButtonEl.classList.add('colab-df-spinner');\n",
              "      try {\n",
              "        const charts = await google.colab.kernel.invokeFunction(\n",
              "            'suggestCharts', [key], {});\n",
              "      } catch (error) {\n",
              "        console.error('Error during call to suggestCharts:', error);\n",
              "      }\n",
              "      quickchartButtonEl.classList.remove('colab-df-spinner');\n",
              "      quickchartButtonEl.classList.add('colab-df-quickchart-complete');\n",
              "    }\n",
              "    (() => {\n",
              "      let quickchartButtonEl =\n",
              "        document.querySelector('#df-3e4b460d-8fab-4279-8cb7-e92b5392f37a button');\n",
              "      quickchartButtonEl.style.display =\n",
              "        google.colab.kernel.accessAllowed ? 'block' : 'none';\n",
              "    })();\n",
              "  </script>\n",
              "</div>\n",
              "    </div>\n",
              "  </div>\n"
            ]
          },
          "metadata": {},
          "execution_count": 38
        }
      ]
    },
    {
      "cell_type": "code",
      "source": [
        "from sklearn.decomposition import PCA\n",
        "\n",
        "pca = PCA(n_components=784)\n",
        "pca_fit = pca.fit(scaled_df)\n",
        "pca_fit"
      ],
      "metadata": {
        "colab": {
          "base_uri": "https://localhost:8080/",
          "height": 75
        },
        "id": "2qG8jWeW07Ff",
        "outputId": "80b141a6-64bd-4b78-d228-88652e0e52a3"
      },
      "execution_count": 39,
      "outputs": [
        {
          "output_type": "execute_result",
          "data": {
            "text/plain": [
              "PCA(n_components=784)"
            ],
            "text/html": [
              "<style>#sk-container-id-1 {color: black;background-color: white;}#sk-container-id-1 pre{padding: 0;}#sk-container-id-1 div.sk-toggleable {background-color: white;}#sk-container-id-1 label.sk-toggleable__label {cursor: pointer;display: block;width: 100%;margin-bottom: 0;padding: 0.3em;box-sizing: border-box;text-align: center;}#sk-container-id-1 label.sk-toggleable__label-arrow:before {content: \"▸\";float: left;margin-right: 0.25em;color: #696969;}#sk-container-id-1 label.sk-toggleable__label-arrow:hover:before {color: black;}#sk-container-id-1 div.sk-estimator:hover label.sk-toggleable__label-arrow:before {color: black;}#sk-container-id-1 div.sk-toggleable__content {max-height: 0;max-width: 0;overflow: hidden;text-align: left;background-color: #f0f8ff;}#sk-container-id-1 div.sk-toggleable__content pre {margin: 0.2em;color: black;border-radius: 0.25em;background-color: #f0f8ff;}#sk-container-id-1 input.sk-toggleable__control:checked~div.sk-toggleable__content {max-height: 200px;max-width: 100%;overflow: auto;}#sk-container-id-1 input.sk-toggleable__control:checked~label.sk-toggleable__label-arrow:before {content: \"▾\";}#sk-container-id-1 div.sk-estimator input.sk-toggleable__control:checked~label.sk-toggleable__label {background-color: #d4ebff;}#sk-container-id-1 div.sk-label input.sk-toggleable__control:checked~label.sk-toggleable__label {background-color: #d4ebff;}#sk-container-id-1 input.sk-hidden--visually {border: 0;clip: rect(1px 1px 1px 1px);clip: rect(1px, 1px, 1px, 1px);height: 1px;margin: -1px;overflow: hidden;padding: 0;position: absolute;width: 1px;}#sk-container-id-1 div.sk-estimator {font-family: monospace;background-color: #f0f8ff;border: 1px dotted black;border-radius: 0.25em;box-sizing: border-box;margin-bottom: 0.5em;}#sk-container-id-1 div.sk-estimator:hover {background-color: #d4ebff;}#sk-container-id-1 div.sk-parallel-item::after {content: \"\";width: 100%;border-bottom: 1px solid gray;flex-grow: 1;}#sk-container-id-1 div.sk-label:hover label.sk-toggleable__label {background-color: #d4ebff;}#sk-container-id-1 div.sk-serial::before {content: \"\";position: absolute;border-left: 1px solid gray;box-sizing: border-box;top: 0;bottom: 0;left: 50%;z-index: 0;}#sk-container-id-1 div.sk-serial {display: flex;flex-direction: column;align-items: center;background-color: white;padding-right: 0.2em;padding-left: 0.2em;position: relative;}#sk-container-id-1 div.sk-item {position: relative;z-index: 1;}#sk-container-id-1 div.sk-parallel {display: flex;align-items: stretch;justify-content: center;background-color: white;position: relative;}#sk-container-id-1 div.sk-item::before, #sk-container-id-1 div.sk-parallel-item::before {content: \"\";position: absolute;border-left: 1px solid gray;box-sizing: border-box;top: 0;bottom: 0;left: 50%;z-index: -1;}#sk-container-id-1 div.sk-parallel-item {display: flex;flex-direction: column;z-index: 1;position: relative;background-color: white;}#sk-container-id-1 div.sk-parallel-item:first-child::after {align-self: flex-end;width: 50%;}#sk-container-id-1 div.sk-parallel-item:last-child::after {align-self: flex-start;width: 50%;}#sk-container-id-1 div.sk-parallel-item:only-child::after {width: 0;}#sk-container-id-1 div.sk-dashed-wrapped {border: 1px dashed gray;margin: 0 0.4em 0.5em 0.4em;box-sizing: border-box;padding-bottom: 0.4em;background-color: white;}#sk-container-id-1 div.sk-label label {font-family: monospace;font-weight: bold;display: inline-block;line-height: 1.2em;}#sk-container-id-1 div.sk-label-container {text-align: center;}#sk-container-id-1 div.sk-container {/* jupyter's `normalize.less` sets `[hidden] { display: none; }` but bootstrap.min.css set `[hidden] { display: none !important; }` so we also need the `!important` here to be able to override the default hidden behavior on the sphinx rendered scikit-learn.org. See: https://github.com/scikit-learn/scikit-learn/issues/21755 */display: inline-block !important;position: relative;}#sk-container-id-1 div.sk-text-repr-fallback {display: none;}</style><div id=\"sk-container-id-1\" class=\"sk-top-container\"><div class=\"sk-text-repr-fallback\"><pre>PCA(n_components=784)</pre><b>In a Jupyter environment, please rerun this cell to show the HTML representation or trust the notebook. <br />On GitHub, the HTML representation is unable to render, please try loading this page with nbviewer.org.</b></div><div class=\"sk-container\" hidden><div class=\"sk-item\"><div class=\"sk-estimator sk-toggleable\"><input class=\"sk-toggleable__control sk-hidden--visually\" id=\"sk-estimator-id-1\" type=\"checkbox\" checked><label for=\"sk-estimator-id-1\" class=\"sk-toggleable__label sk-toggleable__label-arrow\">PCA</label><div class=\"sk-toggleable__content\"><pre>PCA(n_components=784)</pre></div></div></div></div></div>"
            ]
          },
          "metadata": {},
          "execution_count": 39
        }
      ]
    },
    {
      "cell_type": "code",
      "source": [
        "PCAvals = np.arange(pca.n_components_) + 1\n",
        "plt.plot(PCAvals, pca.explained_variance_ratio_, '*-', linewidth=2, color='red')\n",
        "plt.title('Scree Plot')\n",
        "plt.xlabel('Principal Component')\n",
        "plt.ylabel('Variance')\n",
        "plt.show()"
      ],
      "metadata": {
        "colab": {
          "base_uri": "https://localhost:8080/",
          "height": 472
        },
        "id": "cnqkyRkA0_Dl",
        "outputId": "33a61d58-d312-4986-8399-3220133511d0"
      },
      "execution_count": 40,
      "outputs": [
        {
          "output_type": "display_data",
          "data": {
            "text/plain": [
              "<Figure size 640x480 with 1 Axes>"
            ],
            "image/png": "[encoded data removed]"
          },
          "metadata": {}
        }
      ]
    },
    {
      "cell_type": "code",
      "source": [
        "desired_variance = 0.9\n",
        "cumulative_variance = np.cumsum(pca.explained_variance_ratio_)\n",
        "best_n_components = np.argmax(cumulative_variance >= desired_variance) + 1\n",
        "\n",
        "print(f\"Number of components required to explain {desired_variance*100}% variance = {best_n_components}\")"
      ],
      "metadata": {
        "colab": {
          "base_uri": "https://localhost:8080/"
        },
        "id": "ZOmDOmeW1Cl-",
        "outputId": "ff1092b5-1e21-4e3d-f8d7-d641fcd84c02"
      },
      "execution_count": 41,
      "outputs": [
        {
          "output_type": "stream",
          "name": "stdout",
          "text": [
            "Number of components required to explain 90.0% variance = 326\n"
          ]
        }
      ]
    },
    {
      "cell_type": "code",
      "source": [
        "pca = PCA(n_components=328)\n",
        "pca_fit = pca.fit(scaled_df)"
      ],
      "metadata": {
        "id": "8eF9dWqT1Gm1"
      },
      "execution_count": 42,
      "outputs": []
    },
    {
      "cell_type": "code",
      "source": [
        "PCAvals = np.arange(pca.n_components_) + 1\n",
        "plt.plot(PCAvals, pca.explained_variance_ratio_, '*-', linewidth=2, color='green')\n",
        "plt.title('Scree Plot')\n",
        "plt.xlabel('Principal Component')\n",
        "plt.ylabel('Variance')\n",
        "plt.show()"
      ],
      "metadata": {
        "colab": {
          "base_uri": "https://localhost:8080/",
          "height": 472
        },
        "id": "NZI4c6ln1IIl",
        "outputId": "b804344f-b298-4fea-e3b1-f12eb0c820d5"
      },
      "execution_count": 43,
      "outputs": [
        {
          "output_type": "display_data",
          "data": {
            "text/plain": [
              "<Figure size 640x480 with 1 Axes>"
            ],
            "image/png": "[encoded data removed]"
          },
          "metadata": {}
        }
      ]
    },
    {
      "cell_type": "markdown",
      "source": [
        "# Autoencoders"
      ],
      "metadata": {
        "id": "RDG2xlwcJ3jt"
      }
    },
    {
      "cell_type": "code",
      "source": [
        "import pandas as pd\n",
        "import numpy as np\n",
        "import math\n",
        "import torch\n",
        "from torch import nn\n",
        "from torch.utils.data import DataLoader\n",
        "from torchvision import datasets, transforms\n",
        "from torch.utils.data import Dataset\n",
        "import torch.optim as optim\n",
        "from torchvision.transforms import ToTensor\n",
        "import os\n",
        "from torchvision.io import read_image"
      ],
      "metadata": {
        "id": "ap4CADLqLfk1"
      },
      "execution_count": 1,
      "outputs": []
    },
    {
      "cell_type": "code",
      "source": [
        "from google.colab import drive\n",
        "drive.mount('/content/drive')"
      ],
      "metadata": {
        "id": "yLU8Do3XW6Rp",
        "colab": {
          "base_uri": "https://localhost:8080/"
        },
        "outputId": "4738ee04-a32e-4a55-d7ed-f94992c3f523"
      },
      "execution_count": 2,
      "outputs": [
        {
          "output_type": "stream",
          "name": "stdout",
          "text": [
            "Mounted at /content/drive\n"
          ]
        }
      ]
    },
    {
      "cell_type": "code",
      "source": [
        "train_df = pd.read_csv('/content/drive/MyDrive/train.csv')\n",
        "test_df = pd.read_csv('/content/drive/MyDrive/test.csv')"
      ],
      "metadata": {
        "id": "cyBGkM8KSnBf"
      },
      "execution_count": 3,
      "outputs": []
    },
    {
      "cell_type": "code",
      "source": [
        "class CustomImageDataset(Dataset):\n",
        "    def __init__(self, df, transform=None, target_transform=None):\n",
        "        self.img_labels = df.iloc[:, 0]\n",
        "        self.data = df.iloc[:, 1:]\n",
        "        self.transform = transform\n",
        "        self.target_transform = target_transform\n",
        "\n",
        "    def __len__(self):\n",
        "        return len(self.img_labels)\n",
        "\n",
        "    def __getitem__(self, idx):\n",
        "        image = torch.tensor(self.data.iloc[idx,:])\n",
        "        label = self.img_labels.iloc[idx]\n",
        "        if self.transform:\n",
        "            image = self.transform(image)\n",
        "        if self.target_transform:\n",
        "            label = self.target_transform(label)\n",
        "        return image,label"
      ],
      "metadata": {
        "id": "x9NvS26BVtd-"
      },
      "execution_count": 4,
      "outputs": []
    },
    {
      "cell_type": "code",
      "source": [
        "class Encoder(nn.Module):\n",
        "    def __init__(self, n_in, n_hidden_1, n_hidden_2, n_hidden_3, n_out):\n",
        "        super(Encoder, self).__init__()\n",
        "        self.layer1 = nn.Sequential(\n",
        "            nn.Linear(n_in, n_hidden_1, bias=True),\n",
        "            nn.BatchNorm1d(n_hidden_1),\n",
        "            nn.Sigmoid())\n",
        "        self.layer2 = nn.Sequential(\n",
        "            nn.Linear(n_hidden_1, n_hidden_2, bias=True),\n",
        "            nn.BatchNorm1d(n_hidden_2),\n",
        "            nn.Sigmoid())\n",
        "        self.layer3 = nn.Sequential(\n",
        "            nn.Linear(n_hidden_2, n_hidden_3, bias=True),\n",
        "            nn.BatchNorm1d(n_hidden_3),\n",
        "            nn.Sigmoid())\n",
        "        n_size = math.floor(math.sqrt(n_out))\n",
        "        self.layer4 = nn.Sequential(\n",
        "            nn.Linear(n_hidden_3, n_out, bias=True),\n",
        "            nn.BatchNorm1d(n_out),\n",
        "            nn.Sigmoid(),\n",
        "        )\n",
        "\n",
        "    def forward(self, x):\n",
        "        x = self.layer1(x.float())\n",
        "        x = self.layer2(x)\n",
        "        x = self.layer3(x)\n",
        "        return self.layer4(x)\n",
        "\n",
        "class Decoder(nn.Module):\n",
        "    def __init__(self, n_in, n_hidden_1, n_hidden_2, n_hidden_3, n_out):\n",
        "        super(Decoder, self).__init__()\n",
        "        self.layer1 = nn.Sequential(\n",
        "            nn.Linear(n_in, n_hidden_1, bias=True),\n",
        "            nn.BatchNorm1d(n_hidden_1),\n",
        "            nn.Sigmoid())\n",
        "        self.layer2 = nn.Sequential(\n",
        "            nn.Linear(n_hidden_1, n_hidden_2, bias=True),\n",
        "            nn.BatchNorm1d(n_hidden_2),\n",
        "            nn.Sigmoid())\n",
        "        self.layer3 = nn.Sequential(\n",
        "            nn.Linear(n_hidden_2, n_hidden_3, bias=True),\n",
        "            nn.BatchNorm1d(n_hidden_3),\n",
        "            nn.Sigmoid())\n",
        "        n_size = math.floor(math.sqrt(n_out))\n",
        "        self.layer4 = nn.Sequential(\n",
        "            nn.Linear(n_hidden_3, n_out, bias=True),\n",
        "            nn.BatchNorm1d(n_out),\n",
        "            nn.Sigmoid(),\n",
        "        )\n",
        "\n",
        "    def forward(self, x):\n",
        "        x = self.layer1(x.float())\n",
        "        x = self.layer2(x)\n",
        "        x = self.layer3(x)\n",
        "        return self.layer4(x)\n",
        "\n",
        "encoder = Encoder(784, 1000, 500, 250, 2)\n",
        "decoder = Decoder(2, 250, 500, 1000, 784)"
      ],
      "metadata": {
        "id": "lC5g1vaAJ6Kt"
      },
      "execution_count": 5,
      "outputs": []
    },
    {
      "cell_type": "code",
      "source": [
        "encoder = Encoder(784,1000,500,250,2)\n",
        "decoder = Decoder(2,250,500,1000,784)"
      ],
      "metadata": {
        "id": "zjgAMqBiLMKU"
      },
      "execution_count": 6,
      "outputs": []
    },
    {
      "cell_type": "code",
      "source": [
        "training=CustomImageDataset(train_df)\n",
        "testing=CustomImageDataset(test_df)"
      ],
      "metadata": {
        "id": "j5Mk9-6AdBbp"
      },
      "execution_count": 7,
      "outputs": []
    },
    {
      "cell_type": "code",
      "source": [
        "train_dataloader = DataLoader(training, batch_size=32, shuffle=True)\n",
        "test_dataloader = DataLoader(testing, batch_size=32, shuffle=True)"
      ],
      "metadata": {
        "id": "AxgthewQWK5-"
      },
      "execution_count": 8,
      "outputs": []
    },
    {
      "cell_type": "code",
      "source": [
        "loss_fn = nn.MSELoss()\n",
        "optimizer = optim.Adam(encoder.parameters(), lr = 0.001, betas=(0.9,0.999), eps=1e-08)"
      ],
      "metadata": {
        "id": "RTUqtdfbg9Sv"
      },
      "execution_count": 9,
      "outputs": []
    },
    {
      "cell_type": "code",
      "source": [
        "from torch.utils.data import Dataset, random_split\n",
        "from torch.utils.data import DataLoader"
      ],
      "metadata": {
        "id": "4c_uJnv0otFs"
      },
      "execution_count": 10,
      "outputs": []
    },
    {
      "cell_type": "code",
      "source": [
        "NUM_EPOCHS = 5\n",
        "for epoch in range(NUM_EPOCHS):\n",
        "    for input, labels in train_dataloader:\n",
        "        optimizer.zero_grad()\n",
        "        code = encoder(input)\n",
        "        output = decoder(code)\n",
        "        #print(input.shape, output.shape)\n",
        "        loss = loss_fn(output, input)\n",
        "        optimizer.step()\n",
        "    print(f\"Epoch: {epoch} Loss: {loss}\")"
      ],
      "metadata": {
        "id": "lrJ63okWMcfN",
        "colab": {
          "base_uri": "https://localhost:8080/"
        },
        "outputId": "f0248c86-a4a3-4fb4-9642-45cda5a1484b"
      },
      "execution_count": 11,
      "outputs": [
        {
          "output_type": "stream",
          "name": "stdout",
          "text": [
            "Epoch: 0 Loss: 4076.708984375\n",
            "Epoch: 1 Loss: 4063.853515625\n",
            "Epoch: 2 Loss: 4220.904296875\n",
            "Epoch: 3 Loss: 4704.67724609375\n",
            "Epoch: 4 Loss: 4384.17822265625\n"
          ]
        }
      ]
    }
  ],
  "metadata": {
    "colab": {
      "provenance": []
    },
    "kernelspec": {
      "display_name": "Python 3",
      "name": "python3"
    },
    "language_info": {
      "name": "python"
    },
    "accelerator": "TPU"
  },
  "nbformat": 4,
  "nbformat_minor": 0
}