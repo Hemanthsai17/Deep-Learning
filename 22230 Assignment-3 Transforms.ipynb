{
 "cells": [
  {
   "cell_type": "markdown",
   "id": "1a8d5438",
   "metadata": {},
   "source": [
    "Data does not always come in its final processed form that is required for training machine learning algorithms. We use transforms to perform some manipulation of the data and make it suitable for training.\n",
    "\n",
    "All TorchVision datasets have two parameters -transform to modify the features and target_transform to modify the labels. The torchvision.transforms module offers several commonly-used transforms out of the box.\n",
    "\n",
    "The FashionMNIST features are in PIL Image format, and the labels are integers. For training, we need the features as normalized tensors, and the labels as one-hot encoded tensors. \n",
    "\n",
    "To make these transformations, we use ToTensor and Lambda."
   ]
  },
  {
   "cell_type": "code",
   "execution_count": 1,
   "id": "05b6e931",
   "metadata": {},
   "outputs": [],
   "source": [
    "import torch\n",
    "from torchvision import datasets\n",
    "from torchvision.transforms import ToTensor, Lambda\n",
    "\n",
    "ds = datasets.FashionMNIST(\n",
    "    root=\"data\",\n",
    "    train=True,\n",
    "    download=True,\n",
    "    transform=ToTensor(),\n",
    "    target_transform=Lambda(lambda y: torch.zeros(10, dtype=torch.float).scatter_(0, torch.tensor(y), value=1))\n",
    ")"
   ]
  },
  {
   "cell_type": "markdown",
   "id": "4860aa9a",
   "metadata": {},
   "source": [
    "- **lambda y**: ...: This is a lambda function that takes an input y, which represents the target label of an image in the dataset.\n",
    "\n",
    "- **torch.zeros(10, dtype=torch.float)**: This creates a tensor of zeros with a size of 10. Since the FashionMNIST dataset has 10 classes (0 to 9), this tensor will be used to create the one-hot encoded representation of the target label.\n",
    "\n",
    "- **.scatter_(0, torch.tensor(y), value=1)**: This is where the magic happens. The scatter_ method is called on the tensor of zeros to modify it in-place based on the provided indices and values. Let's break down its arguments:\n",
    "\n",
    "- **0**: The first argument specifies the dimension along which to index. In this case, it's 0, which means we want to modify the tensor along the first dimension.\n",
    "\n",
    "- **torch.tensor(y)**: This creates a tensor from the input y, which represents the target label of an image. For example, if y is 3, then torch.tensor(y) will be a scalar tensor with the value 3.\n",
    "\n",
    "- **value=1**: This is the value that will be assigned to the specified indices. In this case, it's 1, which means we want to set the element at index 3 (if y is 3) to 1.\n",
    "\n",
    "Since the tensor was initialized with zeros, this effectively creates a one-hot encoded representation."
   ]
  },
  {
   "cell_type": "markdown",
   "id": "2d11c132",
   "metadata": {},
   "source": [
    "### ToTensor()"
   ]
  },
  {
   "cell_type": "markdown",
   "id": "39ca338f",
   "metadata": {},
   "source": [
    "ToTensor converts a PIL image or NumPy ndarray into a FloatTensor. and scales the image’s pixel intensity values in the range [0., 1.]"
   ]
  },
  {
   "cell_type": "markdown",
   "id": "e9740f5f",
   "metadata": {},
   "source": [
    "### Lambda Transforms"
   ]
  },
  {
   "cell_type": "markdown",
   "id": "25fb0650",
   "metadata": {},
   "source": [
    "Lambda transforms apply any user-defined lambda function. Here, we define a function to turn the integer into a one-hot encoded tensor. It first creates a zero tensor of size 10 (the number of labels in our dataset) and calls scatter_ which assigns a value=1 on the index as given by the label y."
   ]
  },
  {
   "cell_type": "code",
   "execution_count": 2,
   "id": "9e7a323e",
   "metadata": {},
   "outputs": [],
   "source": [
    "target_transform = Lambda(lambda y: torch.zeros(\n",
    "    10, dtype=torch.float).scatter_(dim=0, index=torch.tensor(y), value=1))"
   ]
  }
 ],
 "metadata": {
  "kernelspec": {
   "display_name": "Python 3 (ipykernel)",
   "language": "python",
   "name": "python3"
  },
  "language_info": {
   "codemirror_mode": {
    "name": "ipython",
    "version": 3
   },
   "file_extension": ".py",
   "mimetype": "text/x-python",
   "name": "python",
   "nbconvert_exporter": "python",
   "pygments_lexer": "ipython3",
   "version": "3.11.4"
  }
 },
 "nbformat": 4,
 "nbformat_minor": 5
}
