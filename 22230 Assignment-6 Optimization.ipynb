{
 "cells": [
  {
   "cell_type": "markdown",
   "id": "34c22c68",
   "metadata": {},
   "source": [
    "# OPTIMIZING MODEL PARAMETERS"
   ]
  },
  {
   "cell_type": "markdown",
   "id": "50f6db5b",
   "metadata": {},
   "source": [
    "Now that we have a model and data it’s time to train (an iterative process), validate and test our model by optimizing its parameters on our data. "
   ]
  },
  {
   "cell_type": "markdown",
   "id": "d3a6d78c",
   "metadata": {},
   "source": [
    "### Code for model"
   ]
  },
  {
   "cell_type": "code",
   "execution_count": 1,
   "id": "49d53850",
   "metadata": {},
   "outputs": [],
   "source": [
    "import torch\n",
    "from torch import nn\n",
    "from torch.utils.data import DataLoader\n",
    "from torchvision import datasets\n",
    "from torchvision.transforms import ToTensor\n",
    "\n",
    "training_data = datasets.FashionMNIST(\n",
    "    root=\"data\",\n",
    "    train=True,\n",
    "    download=True,\n",
    "    transform=ToTensor()\n",
    ")\n",
    "\n",
    "test_data = datasets.FashionMNIST(\n",
    "    root=\"data\",\n",
    "    train=False,\n",
    "    download=True,\n",
    "    transform=ToTensor()\n",
    ")\n",
    "\n",
    "train_dataloader = DataLoader(training_data, batch_size=64)\n",
    "test_dataloader = DataLoader(test_data, batch_size=64)\n",
    "\n",
    "class NeuralNetwork(nn.Module):\n",
    "    def __init__(self):\n",
    "        super().__init__()\n",
    "        self.flatten = nn.Flatten()\n",
    "        self.linear_relu_stack = nn.Sequential(\n",
    "            nn.Linear(28*28, 512),\n",
    "            nn.ReLU(),\n",
    "            nn.Linear(512, 512),\n",
    "            nn.ReLU(),\n",
    "            nn.Linear(512, 10),\n",
    "        )\n",
    "\n",
    "    def forward(self, x):\n",
    "        x = self.flatten(x)\n",
    "        logits = self.linear_relu_stack(x)\n",
    "        return logits\n",
    "\n",
    "model = NeuralNetwork()"
   ]
  },
  {
   "cell_type": "markdown",
   "id": "e0e3678b",
   "metadata": {},
   "source": [
    "### Hyperparameters"
   ]
  },
  {
   "cell_type": "markdown",
   "id": "3ce5f00c",
   "metadata": {},
   "source": [
    "Hyperparameters are adjustable parameters that let you control the model optimization process. Different hyperparameter values can impact model training and convergence rates (read more about hyperparameter tuning in https://pytorch.org/tutorials/beginner/hyperparameter_tuning_tutorial.html)\n",
    "\n",
    "We define the following hyperparameters for training:\n",
    "\n",
    "- **Number of Epochs** - the number times to iterate over the dataset\n",
    "\n",
    "- **Batch Size** - the number of data samples propagated through the network before the parameters are updated\n",
    "\n",
    "- **Learning Rate** - how much to update models parameters at each batch/epoch. Smaller values yield slow learning speed, while large values may result in unpredictable behavior during training."
   ]
  },
  {
   "cell_type": "code",
   "execution_count": 2,
   "id": "a6689490",
   "metadata": {},
   "outputs": [],
   "source": [
    "learning_rate=1e-3\n",
    "batch_size=64\n",
    "epocks=5"
   ]
  },
  {
   "cell_type": "markdown",
   "id": "112eb692",
   "metadata": {},
   "source": [
    "### Optimization Loop"
   ]
  },
  {
   "cell_type": "markdown",
   "id": "3ce370b7",
   "metadata": {},
   "source": [
    "Once we set our hyperparameters, we can then train and optimize our model with an optimization loop. Each iteration of the optimization loop is called an **epoch.**\n",
    "\n",
    "Each epoch consists of two main parts:\n",
    "\n",
    "- **The Train Loop** - iterate over the training dataset and try to converge to optimal parameters.\n",
    "\n",
    "- **The Validation/Test Loop** - iterate over the test dataset to check if model performance is improving."
   ]
  },
  {
   "cell_type": "markdown",
   "id": "07bd2e14",
   "metadata": {},
   "source": [
    "- **Loss function** measures the degree of dissimilarity of obtained result to the target value, and it is the loss function that we want to minimize during training.\n",
    "\n",
    "- Common loss functions include **nn.MSELoss** (Mean Square Error) for regression tasks, and **nn.NLLLoss** (Negative Log Likelihood) for classification.\n",
    "\n",
    "- **nn.CrossEntropyLoss** combines **nn.LogSoftmax** and **nn.NLLLoss**.\n",
    "\n",
    "- We pass our model’s output logits to **nn.CrossEntropyLoss**, which will normalize the logits and compute the prediction error."
   ]
  },
  {
   "cell_type": "code",
   "execution_count": 3,
   "id": "9cce46bc",
   "metadata": {},
   "outputs": [],
   "source": [
    "loss_fn=nn.CrossEntropyLoss()"
   ]
  },
  {
   "cell_type": "markdown",
   "id": "3c4f0f2b",
   "metadata": {},
   "source": [
    "### Optimizer"
   ]
  },
  {
   "cell_type": "markdown",
   "id": "3dea9bb3",
   "metadata": {},
   "source": [
    "- Optimization is the process of adjusting model parameters to reduce model error in each training step. \n",
    "- **Optimization algorithms** define how this process is performed. \n",
    "- All optimization logic is encapsulated in the optimizer object.\n",
    "- There are many different optimizers available in https://pytorch.org/docs/stable/optim.html"
   ]
  },
  {
   "cell_type": "code",
   "execution_count": 4,
   "id": "914086a3",
   "metadata": {},
   "outputs": [],
   "source": [
    "optimizer=torch.optim.SGD(model.parameters(),lr=learning_rate)"
   ]
  },
  {
   "cell_type": "markdown",
   "id": "e3221629",
   "metadata": {},
   "source": [
    "Inside the training loop, optimization happens in three steps:\n",
    "\n",
    "- Call **optimizer.zero_grad()** to reset the gradients of model parameters. Gradients by default add up; to prevent double-counting, we explicitly zero them at each iteration.\n",
    "\n",
    "- Backpropagate the prediction loss with a call to **loss.backward()**. PyTorch deposits the gradients of the loss w.r.t. each parameter.\n",
    "\n",
    "- Once we have our gradients, we call **optimizer.step()** to adjust the parameters by the gradients collected in the backward pass."
   ]
  },
  {
   "cell_type": "markdown",
   "id": "13b2bf9b",
   "metadata": {},
   "source": [
    "### Full Implementation"
   ]
  },
  {
   "cell_type": "code",
   "execution_count": 5,
   "id": "830cb466",
   "metadata": {},
   "outputs": [],
   "source": [
    "#We define train_loop that loops over our optimization code.\n",
    "def train_loop(dataloader, model, loss_fn, optimizer):\n",
    "    size = len(dataloader.dataset)\n",
    "    # Set the model to training mode - important for batch normalization and dropout layers\n",
    "    # Unnecessary in this situation but added for best practices\n",
    "    model.train()\n",
    "    for batch, (X, y) in enumerate(dataloader):\n",
    "        # Compute prediction and loss\n",
    "        pred = model(X)\n",
    "        loss = loss_fn(pred, y)\n",
    "\n",
    "        # Backpropagation\n",
    "        loss.backward()\n",
    "        optimizer.step()\n",
    "        optimizer.zero_grad()\n",
    "\n",
    "        if batch % 100 == 0:\n",
    "            loss, current = loss.item(), (batch + 1) * len(X)\n",
    "            print(f\"loss: {loss:>7f}  [{current:>5d}/{size:>5d}]\")\n",
    "\n",
    "#test_loop that evaluates the model’s performance against our test data.\n",
    "def test_loop(dataloader, model, loss_fn):\n",
    "    # Set the model to evaluation mode - important for batch normalization and dropout layers\n",
    "    # Unnecessary in this situation but added for best practices\n",
    "    model.eval()\n",
    "    size = len(dataloader.dataset)\n",
    "    num_batches = len(dataloader)\n",
    "    test_loss, correct = 0, 0\n",
    "\n",
    "    # Evaluating the model with torch.no_grad() ensures that no gradients are computed during test mode\n",
    "    # also serves to reduce unnecessary gradient computations and memory usage for tensors with requires_grad=True\n",
    "    with torch.no_grad():\n",
    "        for X, y in dataloader:\n",
    "            pred = model(X)\n",
    "            test_loss += loss_fn(pred, y).item()\n",
    "            correct += (pred.argmax(1) == y).type(torch.float).sum().item()\n",
    "\n",
    "    test_loss /= num_batches\n",
    "    correct /= size\n",
    "    print(f\"Test Error: \\n Accuracy: {(100*correct):>0.1f}%, Avg loss: {test_loss:>8f} \\n\")"
   ]
  },
  {
   "cell_type": "markdown",
   "id": "d6755691",
   "metadata": {},
   "source": [
    "We initialize the loss function and optimizer, and pass it to **train_loop** and **test_loop.**"
   ]
  },
  {
   "cell_type": "code",
   "execution_count": 6,
   "id": "9459bca1",
   "metadata": {},
   "outputs": [
    {
     "name": "stdout",
     "output_type": "stream",
     "text": [
      "Epoch 1\n",
      "-------------------------------\n",
      "loss: 2.299391  [   64/60000]\n",
      "loss: 2.283483  [ 6464/60000]\n",
      "loss: 2.267198  [12864/60000]\n",
      "loss: 2.265192  [19264/60000]\n",
      "loss: 2.245726  [25664/60000]\n",
      "loss: 2.207473  [32064/60000]\n",
      "loss: 2.227316  [38464/60000]\n",
      "loss: 2.183633  [44864/60000]\n",
      "loss: 2.180509  [51264/60000]\n",
      "loss: 2.148104  [57664/60000]\n",
      "Test Error: \n",
      " Accuracy: 42.2%, Avg loss: 2.145356 \n",
      "\n",
      "Epoch 2\n",
      "-------------------------------\n",
      "loss: 2.156003  [   64/60000]\n",
      "loss: 2.139908  [ 6464/60000]\n",
      "loss: 2.078060  [12864/60000]\n",
      "loss: 2.096203  [19264/60000]\n",
      "loss: 2.046007  [25664/60000]\n",
      "loss: 1.976961  [32064/60000]\n",
      "loss: 2.017951  [38464/60000]\n",
      "loss: 1.924146  [44864/60000]\n",
      "loss: 1.935079  [51264/60000]\n",
      "loss: 1.861157  [57664/60000]\n",
      "Test Error: \n",
      " Accuracy: 53.8%, Avg loss: 1.858303 \n",
      "\n",
      "Epoch 3\n",
      "-------------------------------\n",
      "loss: 1.897112  [   64/60000]\n",
      "loss: 1.856841  [ 6464/60000]\n",
      "loss: 1.731260  [12864/60000]\n",
      "loss: 1.777692  [19264/60000]\n",
      "loss: 1.678161  [25664/60000]\n",
      "loss: 1.627350  [32064/60000]\n",
      "loss: 1.665329  [38464/60000]\n",
      "loss: 1.557669  [44864/60000]\n",
      "loss: 1.589887  [51264/60000]\n",
      "loss: 1.485460  [57664/60000]\n",
      "Test Error: \n",
      " Accuracy: 61.6%, Avg loss: 1.501974 \n",
      "\n",
      "Epoch 4\n",
      "-------------------------------\n",
      "loss: 1.574525  [   64/60000]\n",
      "loss: 1.532349  [ 6464/60000]\n",
      "loss: 1.380121  [12864/60000]\n",
      "loss: 1.451921  [19264/60000]\n",
      "loss: 1.343191  [25664/60000]\n",
      "loss: 1.337796  [32064/60000]\n",
      "loss: 1.363118  [38464/60000]\n",
      "loss: 1.283376  [44864/60000]\n",
      "loss: 1.321262  [51264/60000]\n",
      "loss: 1.216939  [57664/60000]\n",
      "Test Error: \n",
      " Accuracy: 63.8%, Avg loss: 1.245382 \n",
      "\n",
      "Epoch 5\n",
      "-------------------------------\n",
      "loss: 1.326607  [   64/60000]\n",
      "loss: 1.301899  [ 6464/60000]\n",
      "loss: 1.135622  [12864/60000]\n",
      "loss: 1.234681  [19264/60000]\n",
      "loss: 1.117327  [25664/60000]\n",
      "loss: 1.142328  [32064/60000]\n",
      "loss: 1.169871  [38464/60000]\n",
      "loss: 1.108257  [44864/60000]\n",
      "loss: 1.149093  [51264/60000]\n",
      "loss: 1.052706  [57664/60000]\n",
      "Test Error: \n",
      " Accuracy: 64.7%, Avg loss: 1.080605 \n",
      "\n",
      "Epoch 6\n",
      "-------------------------------\n",
      "loss: 1.156173  [   64/60000]\n",
      "loss: 1.152199  [ 6464/60000]\n",
      "loss: 0.968628  [12864/60000]\n",
      "loss: 1.095231  [19264/60000]\n",
      "loss: 0.974654  [25664/60000]\n",
      "loss: 1.008100  [32064/60000]\n",
      "loss: 1.047365  [38464/60000]\n",
      "loss: 0.995310  [44864/60000]\n",
      "loss: 1.034850  [51264/60000]\n",
      "loss: 0.948485  [57664/60000]\n",
      "Test Error: \n",
      " Accuracy: 65.9%, Avg loss: 0.973128 \n",
      "\n",
      "Epoch 7\n",
      "-------------------------------\n",
      "loss: 1.036091  [   64/60000]\n",
      "loss: 1.054590  [ 6464/60000]\n",
      "loss: 0.853455  [12864/60000]\n",
      "loss: 1.002369  [19264/60000]\n",
      "loss: 0.885179  [25664/60000]\n",
      "loss: 0.913763  [32064/60000]\n",
      "loss: 0.967102  [38464/60000]\n",
      "loss: 0.921799  [44864/60000]\n",
      "loss: 0.956042  [51264/60000]\n",
      "loss: 0.879557  [57664/60000]\n",
      "Test Error: \n",
      " Accuracy: 67.0%, Avg loss: 0.900500 \n",
      "\n",
      "Epoch 8\n",
      "-------------------------------\n",
      "loss: 0.948512  [   64/60000]\n",
      "loss: 0.987889  [ 6464/60000]\n",
      "loss: 0.771690  [12864/60000]\n",
      "loss: 0.937736  [19264/60000]\n",
      "loss: 0.827124  [25664/60000]\n",
      "loss: 0.846011  [32064/60000]\n",
      "loss: 0.911875  [38464/60000]\n",
      "loss: 0.873217  [44864/60000]\n",
      "loss: 0.899680  [51264/60000]\n",
      "loss: 0.831279  [57664/60000]\n",
      "Test Error: \n",
      " Accuracy: 68.2%, Avg loss: 0.849073 \n",
      "\n",
      "Epoch 9\n",
      "-------------------------------\n",
      "loss: 0.882511  [   64/60000]\n",
      "loss: 0.938831  [ 6464/60000]\n",
      "loss: 0.711507  [12864/60000]\n",
      "loss: 0.890722  [19264/60000]\n",
      "loss: 0.786775  [25664/60000]\n",
      "loss: 0.795898  [32064/60000]\n",
      "loss: 0.870883  [38464/60000]\n",
      "loss: 0.839364  [44864/60000]\n",
      "loss: 0.857502  [51264/60000]\n",
      "loss: 0.795042  [57664/60000]\n",
      "Test Error: \n",
      " Accuracy: 69.5%, Avg loss: 0.810611 \n",
      "\n",
      "Epoch 10\n",
      "-------------------------------\n",
      "loss: 0.830627  [   64/60000]\n",
      "loss: 0.899977  [ 6464/60000]\n",
      "loss: 0.665062  [12864/60000]\n",
      "loss: 0.855175  [19264/60000]\n",
      "loss: 0.756853  [25664/60000]\n",
      "loss: 0.757702  [32064/60000]\n",
      "loss: 0.838288  [38464/60000]\n",
      "loss: 0.814015  [44864/60000]\n",
      "loss: 0.824524  [51264/60000]\n",
      "loss: 0.766400  [57664/60000]\n",
      "Test Error: \n",
      " Accuracy: 70.5%, Avg loss: 0.780277 \n",
      "\n",
      "Done!\n"
     ]
    }
   ],
   "source": [
    "loss_fn = nn.CrossEntropyLoss()\n",
    "optimizer = torch.optim.SGD(model.parameters(), lr=learning_rate)\n",
    "\n",
    "epochs = 10\n",
    "for t in range(epochs):\n",
    "    print(f\"Epoch {t+1}\\n-------------------------------\")\n",
    "    train_loop(train_dataloader, model, loss_fn, optimizer)\n",
    "    test_loop(test_dataloader, model, loss_fn)\n",
    "print(\"Done!\")"
   ]
  },
  {
   "cell_type": "code",
   "execution_count": null,
   "id": "c6b85668",
   "metadata": {},
   "outputs": [],
   "source": []
  }
 ],
 "metadata": {
  "kernelspec": {
   "display_name": "Python 3 (ipykernel)",
   "language": "python",
   "name": "python3"
  },
  "language_info": {
   "codemirror_mode": {
    "name": "ipython",
    "version": 3
   },
   "file_extension": ".py",
   "mimetype": "text/x-python",
   "name": "python",
   "nbconvert_exporter": "python",
   "pygments_lexer": "ipython3",
   "version": "3.11.4"
  }
 },
 "nbformat": 4,
 "nbformat_minor": 5
}
